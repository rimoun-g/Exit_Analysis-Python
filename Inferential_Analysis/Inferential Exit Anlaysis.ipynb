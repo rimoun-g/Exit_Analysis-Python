{
 "cells": [
  {
   "cell_type": "code",
   "execution_count": 1,
   "metadata": {},
   "outputs": [
    {
     "name": "stdout",
     "output_type": "stream",
     "text": [
      "Imported Necessary libs\n"
     ]
    }
   ],
   "source": [
    "import pandas as pd\n",
    "import numpy as np\n",
    "import matplotlib.pyplot as plt\n",
    "import seaborn as sns\n",
    "from IPython.display import display\n",
    "import statsmodels.api as sm\n",
    "from statsmodels.sandbox.regression.predstd import wls_prediction_std\n",
    "plt.rcParams.update({'font.size': 14}) # setting plots font size for clarity\n",
    "print(\"Imported Necessary libs\")"
   ]
  },
  {
   "cell_type": "code",
   "execution_count": 2,
   "metadata": {},
   "outputs": [],
   "source": [
    "# reading the data from the saved excel file\n",
    "df_main = pd.read_excel(r\"D:\\Work\\Products Databses\\personnel\\Notebooks\\Application of course\\all_service_info_30.11.19.xlsx\", index_col=[0], parse_Dates=True)"
   ]
  },
  {
   "cell_type": "code",
   "execution_count": 3,
   "metadata": {},
   "outputs": [
    {
     "data": {
      "text/html": [
       "<div>\n",
       "<style scoped>\n",
       "    .dataframe tbody tr th:only-of-type {\n",
       "        vertical-align: middle;\n",
       "    }\n",
       "\n",
       "    .dataframe tbody tr th {\n",
       "        vertical-align: top;\n",
       "    }\n",
       "\n",
       "    .dataframe thead th {\n",
       "        text-align: right;\n",
       "    }\n",
       "</style>\n",
       "<table border=\"1\" class=\"dataframe\">\n",
       "  <thead>\n",
       "    <tr style=\"text-align: right;\">\n",
       "      <th></th>\n",
       "      <th>nat</th>\n",
       "      <th>job</th>\n",
       "      <th>join</th>\n",
       "      <th>empno</th>\n",
       "      <th>dept</th>\n",
       "      <th>service</th>\n",
       "    </tr>\n",
       "    <tr>\n",
       "      <th>leave</th>\n",
       "      <th></th>\n",
       "      <th></th>\n",
       "      <th></th>\n",
       "      <th></th>\n",
       "      <th></th>\n",
       "      <th></th>\n",
       "    </tr>\n",
       "  </thead>\n",
       "  <tbody>\n",
       "    <tr>\n",
       "      <th>2019-09-01</th>\n",
       "      <td>Nepalese</td>\n",
       "      <td>Merchandiser</td>\n",
       "      <td>2017-10-15</td>\n",
       "      <td>2344</td>\n",
       "      <td>General Products Department</td>\n",
       "      <td>1.879452</td>\n",
       "    </tr>\n",
       "    <tr>\n",
       "      <th>2019-09-01</th>\n",
       "      <td>Indian</td>\n",
       "      <td>Van Salesman</td>\n",
       "      <td>2014-09-13</td>\n",
       "      <td>1927</td>\n",
       "      <td>Consumer Products Department</td>\n",
       "      <td>4.969863</td>\n",
       "    </tr>\n",
       "    <tr>\n",
       "      <th>2019-09-01</th>\n",
       "      <td>Nepalese</td>\n",
       "      <td>Warehouse Asst</td>\n",
       "      <td>2012-05-12</td>\n",
       "      <td>1587</td>\n",
       "      <td>Logistics Department</td>\n",
       "      <td>7.309589</td>\n",
       "    </tr>\n",
       "    <tr>\n",
       "      <th>2019-09-01</th>\n",
       "      <td>Sri-Lankan</td>\n",
       "      <td>Sales Supervisor</td>\n",
       "      <td>2006-12-16</td>\n",
       "      <td>1107</td>\n",
       "      <td>Consumer Electronics &amp; Home Appliances Department</td>\n",
       "      <td>12.717808</td>\n",
       "    </tr>\n",
       "    <tr>\n",
       "      <th>2019-08-28</th>\n",
       "      <td>Nepalese</td>\n",
       "      <td>Driver</td>\n",
       "      <td>2006-11-30</td>\n",
       "      <td>1093</td>\n",
       "      <td>Logistics Department</td>\n",
       "      <td>12.750685</td>\n",
       "    </tr>\n",
       "  </tbody>\n",
       "</table>\n",
       "</div>"
      ],
      "text/plain": [
       "                   nat               job        join  empno  \\\n",
       "leave                                                         \n",
       "2019-09-01    Nepalese      Merchandiser  2017-10-15   2344   \n",
       "2019-09-01      Indian      Van Salesman  2014-09-13   1927   \n",
       "2019-09-01    Nepalese    Warehouse Asst  2012-05-12   1587   \n",
       "2019-09-01  Sri-Lankan  Sales Supervisor  2006-12-16   1107   \n",
       "2019-08-28    Nepalese            Driver  2006-11-30   1093   \n",
       "\n",
       "                                                         dept    service  \n",
       "leave                                                                     \n",
       "2019-09-01                        General Products Department   1.879452  \n",
       "2019-09-01                       Consumer Products Department   4.969863  \n",
       "2019-09-01                               Logistics Department   7.309589  \n",
       "2019-09-01  Consumer Electronics & Home Appliances Department  12.717808  \n",
       "2019-08-28                               Logistics Department  12.750685  "
      ]
     },
     "execution_count": 3,
     "metadata": {},
     "output_type": "execute_result"
    }
   ],
   "source": [
    "df_main.head()"
   ]
  },
  {
   "cell_type": "code",
   "execution_count": 4,
   "metadata": {},
   "outputs": [],
   "source": [
    "# delete employee number as we do not need it\n",
    "df_main.drop(['empno'], axis=1, inplace=True)"
   ]
  },
  {
   "cell_type": "code",
   "execution_count": 5,
   "metadata": {},
   "outputs": [],
   "source": [
    "# converting index to time series\n",
    "df_main.index = pd.to_datetime(df_main.index)"
   ]
  },
  {
   "cell_type": "markdown",
   "metadata": {},
   "source": [
    "### We will start with some assumptions and then we will test them"
   ]
  },
  {
   "cell_type": "markdown",
   "metadata": {},
   "source": [
    "### 1- We think that employees more than 5 years or more in the company"
   ]
  },
  {
   "cell_type": "markdown",
   "metadata": {},
   "source": [
    "we will use confidence interval to answer this question"
   ]
  },
  {
   "cell_type": "code",
   "execution_count": 6,
   "metadata": {},
   "outputs": [
    {
     "data": {
      "text/plain": [
       "Text(6.616941787446015, 200, 'Average')"
      ]
     },
     "execution_count": 6,
     "metadata": {},
     "output_type": "execute_result"
    },
    {
     "data": {
      "image/png": "[encoded data removed]",
      "text/plain": [
       "<Figure size 720x576 with 1 Axes>"
      ]
     },
     "metadata": {
      "needs_background": "light"
     },
     "output_type": "display_data"
    }
   ],
   "source": [
    "# plotting service period\n",
    "plt.annotate(\"outliers\",xy=(37, 100),ha='center', xytext=(37, 10), xycoords='data',arrowprops=dict(arrowstyle= '<|-',color='blue',lw=3.5,ls='-'))\n",
    "df_main['service'].hist(bins=10,figsize=(10,8))\n",
    "plt.xlabel('number of years')\n",
    "plt.ylabel('frequency')\n",
    "plt.title('(figure \"1\")')\n",
    "plt.axvline(df_main['service'].median(), color='k', label='Median',linestyle='--')\n",
    "plt.text(df_main['service'].median(),200,'Median',color='b', rotation=90)\n",
    "plt.axvline(df_main['service'].mean(), color='r', label='Median',linestyle='--')\n",
    "plt.text(df_main['service'].mean(),200,'Average',color='k',rotation=90)"
   ]
  },
  {
   "cell_type": "markdown",
   "metadata": {},
   "source": [
    "The median is 4.4 and the mean is 6.6"
   ]
  },
  {
   "cell_type": "markdown",
   "metadata": {},
   "source": [
    "we should delete outliers to provide better results"
   ]
  },
  {
   "cell_type": "code",
   "execution_count": 7,
   "metadata": {},
   "outputs": [],
   "source": [
    "# we remove the outliers by excluding values which are more than 34 years of service\n",
    "df_nout = df_main.loc[df_main[\"service\"]<35]"
   ]
  },
  {
   "cell_type": "code",
   "execution_count": 8,
   "metadata": {},
   "outputs": [],
   "source": [
    "# we initiate empty lists to store the values of each sample\n",
    "lst_mean = []\n",
    "lst_median = []\n",
    "\n",
    "for i in range(10000):\n",
    "    # we take a sample of dataframe that has no outliers with the same size of the main df\n",
    "    # then we add the mean of service to the list\n",
    "    sample = df_nout.sample(len(df_main),replace=True)\n",
    "    lst_mean.append(sample.service.mean())"
   ]
  },
  {
   "cell_type": "code",
   "execution_count": 9,
   "metadata": {},
   "outputs": [],
   "source": [
    "# we convert the list to numpy array to plot it easily\n",
    "lst_mean = np.array(lst_mean)"
   ]
  },
  {
   "cell_type": "code",
   "execution_count": 10,
   "metadata": {},
   "outputs": [
    {
     "data": {
      "text/plain": [
       "<matplotlib.lines.Line2D at 0x1e459536160>"
      ]
     },
     "execution_count": 10,
     "metadata": {},
     "output_type": "execute_result"
    },
    {
     "data": {
      "image/png": "[encoded data removed]",
      "text/plain": [
       "<Figure size 432x288 with 1 Axes>"
      ]
     },
     "metadata": {
      "needs_background": "light"
     },
     "output_type": "display_data"
    }
   ],
   "source": [
    "# we plot the list and it takes the shape normal distribution then we draw a line with the real mean of our main dataframe \n",
    "# the shown difference between the two means is due to the outliers\n",
    "plt.hist(lst_mean)\n",
    "plt.axvline(df_main.service.mean(), color='r')"
   ]
  },
  {
   "cell_type": "code",
   "execution_count": 11,
   "metadata": {},
   "outputs": [],
   "source": [
    "def confidence_interval(data, confidence_level):\n",
    "    \"\"\"This function is to get a confidence interval from a list of values\n",
    "    **Argumnets:**\n",
    "        data: list of values - it should be numbers\n",
    "        confidence_level: is the level of confidence we want to check, it can be 95, 97, 99\n",
    "    **returns**\n",
    "        The function returns a tuple of the precentiles of the confidence level\n",
    "    \"\"\"\n",
    "    x = (100 - confidence_level)\n",
    "    y =  x/2\n",
    "    return np.percentile(data, y), np.percentile(data, confidence_level + y)"
   ]
  },
  {
   "cell_type": "code",
   "execution_count": 12,
   "metadata": {},
   "outputs": [
    {
     "data": {
      "text/plain": [
       "(5.976474523727515, 7.031541824540952)"
      ]
     },
     "execution_count": 12,
     "metadata": {},
     "output_type": "execute_result"
    }
   ],
   "source": [
    "confidence_interval(lst_mean, 95)"
   ]
  },
  {
   "cell_type": "markdown",
   "metadata": {},
   "source": [
    "## <u>Conclusion:</u>\n",
    "### **Within 95% confidence we can say that employees tend to spend more than five years of service in average**"
   ]
  },
  {
   "cell_type": "markdown",
   "metadata": {},
   "source": [
    "### 2- We will assume that Merchanidsers in General Products Department \"GPD\" stay more than Merchanidsers in Consumer Products Department \"CPD\""
   ]
  },
  {
   "cell_type": "markdown",
   "metadata": {},
   "source": [
    "### We can represent the null and alternative hypotheses as follows:  \n",
    "$H$<sub>0</sub> $:$ $GPD$ - $CPD$ $\\le$  0   \n",
    "**The null assumes ther is no change or change on the opposite direction**  \n",
    "\n",
    "$H$<sub>1</sub> $:$ $GPD$ - $CPD$ $>$  0  \n",
    "**The alternative hypothesis represents our pre-assumption that gpd is higher**  "
   ]
  },
  {
   "cell_type": "code",
   "execution_count": 13,
   "metadata": {},
   "outputs": [],
   "source": [
    "# we make our sample distribution using bootstrap method\n",
    "lst_diff = []\n",
    "for i in range(10000):\n",
    "    sample = df_nout.sample(len(df_main),replace=True)\n",
    "    gpd = sample.loc[(sample[\"dept\"]==\"General Products Department\") & (sample[\"job\"]==\"Merchandiser\"),\"service\"].mean()\n",
    "    cpd = sample.loc[(sample[\"dept\"]==\"Consumer Products Department\") & (sample[\"job\"]==\"Merchandiser\"),\"service\"].mean()\n",
    "    lst_diff.append(gpd - cpd)"
   ]
  },
  {
   "cell_type": "code",
   "execution_count": 14,
   "metadata": {},
   "outputs": [],
   "source": [
    "lst_diff = np.array(lst_diff)"
   ]
  },
  {
   "cell_type": "code",
   "execution_count": 15,
   "metadata": {},
   "outputs": [
    {
     "data": {
      "text/plain": [
       "<matplotlib.lines.Line2D at 0x1e45b85f3c8>"
      ]
     },
     "execution_count": 15,
     "metadata": {},
     "output_type": "execute_result"
    },
    {
     "data": {
      "image/png": "[encoded data removed]",
      "text/plain": [
       "<Figure size 432x288 with 1 Axes>"
      ]
     },
     "metadata": {
      "needs_background": "light"
     },
     "output_type": "display_data"
    }
   ],
   "source": [
    "plt.hist(lst_diff)\n",
    "plt.axvline(lst_diff.mean(), color='r')"
   ]
  },
  {
   "cell_type": "code",
   "execution_count": 16,
   "metadata": {},
   "outputs": [],
   "source": [
    "# now we simulate the bootstrapped sample with normal distribution\n",
    "sim_sample = np.random.normal(0, lst_diff.std(), lst_diff.size)"
   ]
  },
  {
   "cell_type": "code",
   "execution_count": 17,
   "metadata": {},
   "outputs": [],
   "source": [
    "# we get the actual diff of our main dataframe\n",
    "real_diff = df_main.loc[(df_main[\"dept\"]==\"General Products Department\") & (df_main[\"job\"]==\"Merchandiser\"),\"service\"].mean() - df_main.loc[(df_main[\"dept\"]==\"Consumer Products Department\") & (df_main[\"job\"]==\"Merchandiser\"),\"service\"].mean()"
   ]
  },
  {
   "cell_type": "code",
   "execution_count": 18,
   "metadata": {},
   "outputs": [
    {
     "data": {
      "text/plain": [
       "(array([  22.,  185.,  759., 2005., 2927., 2469., 1214.,  366.,   45.,\n",
       "           8.]),\n",
       " array([-3.32688051, -2.61815074, -1.90942097, -1.2006912 , -0.49196142,\n",
       "         0.21676835,  0.92549812,  1.63422789,  2.34295767,  3.05168744,\n",
       "         3.76041721]),\n",
       " <a list of 10 Patch objects>)"
      ]
     },
     "execution_count": 18,
     "metadata": {},
     "output_type": "execute_result"
    },
    {
     "data": {
      "image/png": "[encoded data removed]",
      "text/plain": [
       "<Figure size 432x288 with 1 Axes>"
      ]
     },
     "metadata": {
      "needs_background": "light"
     },
     "output_type": "display_data"
    }
   ],
   "source": [
    "# we plot the simulation of our null hypothesis\n",
    "plt.hist(sim_sample)"
   ]
  },
  {
   "cell_type": "code",
   "execution_count": 19,
   "metadata": {},
   "outputs": [
    {
     "data": {
      "text/plain": [
       "0.2245"
      ]
     },
     "execution_count": 19,
     "metadata": {},
     "output_type": "execute_result"
    }
   ],
   "source": [
    "(sim_sample > real_diff).mean()"
   ]
  },
  {
   "cell_type": "markdown",
   "metadata": {},
   "source": [
    "## <u>Conclusion:</u>\n",
    "### **Our P-value here is more than 5% the signficance level, so we have evidence now to support the null and  we fail to reject it, so there is no statsitical signficance that Merchandisers tend to spend more service years in GPD than in CPD.**"
   ]
  },
  {
   "cell_type": "markdown",
   "metadata": {},
   "source": [
    "### regression analysis"
   ]
  },
  {
   "cell_type": "code",
   "execution_count": 20,
   "metadata": {},
   "outputs": [],
   "source": [
    "df_dept_lin = df_main[[\"job\",\"dept\",\"service\"]].query('(dept == \"General Products Department\" | dept == \"Consumer Products Department\") & job== \"Merchandiser\"')"
   ]
  },
  {
   "cell_type": "code",
   "execution_count": 21,
   "metadata": {},
   "outputs": [
    {
     "data": {
      "text/html": [
       "<div>\n",
       "<style scoped>\n",
       "    .dataframe tbody tr th:only-of-type {\n",
       "        vertical-align: middle;\n",
       "    }\n",
       "\n",
       "    .dataframe tbody tr th {\n",
       "        vertical-align: top;\n",
       "    }\n",
       "\n",
       "    .dataframe thead th {\n",
       "        text-align: right;\n",
       "    }\n",
       "</style>\n",
       "<table border=\"1\" class=\"dataframe\">\n",
       "  <thead>\n",
       "    <tr style=\"text-align: right;\">\n",
       "      <th></th>\n",
       "      <th>cpd</th>\n",
       "      <th>gpd</th>\n",
       "    </tr>\n",
       "  </thead>\n",
       "  <tbody>\n",
       "    <tr>\n",
       "      <th>0</th>\n",
       "      <td>0</td>\n",
       "      <td>1</td>\n",
       "    </tr>\n",
       "    <tr>\n",
       "      <th>1</th>\n",
       "      <td>1</td>\n",
       "      <td>0</td>\n",
       "    </tr>\n",
       "    <tr>\n",
       "      <th>2</th>\n",
       "      <td>1</td>\n",
       "      <td>0</td>\n",
       "    </tr>\n",
       "    <tr>\n",
       "      <th>3</th>\n",
       "      <td>1</td>\n",
       "      <td>0</td>\n",
       "    </tr>\n",
       "    <tr>\n",
       "      <th>4</th>\n",
       "      <td>1</td>\n",
       "      <td>0</td>\n",
       "    </tr>\n",
       "  </tbody>\n",
       "</table>\n",
       "</div>"
      ],
      "text/plain": [
       "   cpd  gpd\n",
       "0    0    1\n",
       "1    1    0\n",
       "2    1    0\n",
       "3    1    0\n",
       "4    1    0"
      ]
     },
     "execution_count": 21,
     "metadata": {},
     "output_type": "execute_result"
    }
   ],
   "source": [
    "df_dept_lin[\"intercept\"] = 1\n",
    "df_dept_lin.reset_index(inplace=True)\n",
    "df_dep_dum = pd.get_dummies(df_dept_lin[\"dept\"])\n",
    "df_dep_dum.columns = [\"cpd\",\"gpd\"]\n",
    "df_dep_dum.head()"
   ]
  },
  {
   "cell_type": "code",
   "execution_count": 22,
   "metadata": {},
   "outputs": [],
   "source": [
    "df_dept_lin = df_dept_lin.join(df_dep_dum[[\"cpd\",\"gpd\"]])"
   ]
  },
  {
   "cell_type": "code",
   "execution_count": 23,
   "metadata": {},
   "outputs": [
    {
     "data": {
      "text/html": [
       "<div>\n",
       "<style scoped>\n",
       "    .dataframe tbody tr th:only-of-type {\n",
       "        vertical-align: middle;\n",
       "    }\n",
       "\n",
       "    .dataframe tbody tr th {\n",
       "        vertical-align: top;\n",
       "    }\n",
       "\n",
       "    .dataframe thead th {\n",
       "        text-align: right;\n",
       "    }\n",
       "</style>\n",
       "<table border=\"1\" class=\"dataframe\">\n",
       "  <thead>\n",
       "    <tr style=\"text-align: right;\">\n",
       "      <th></th>\n",
       "      <th>leave</th>\n",
       "      <th>job</th>\n",
       "      <th>dept</th>\n",
       "      <th>service</th>\n",
       "      <th>intercept</th>\n",
       "      <th>cpd</th>\n",
       "      <th>gpd</th>\n",
       "    </tr>\n",
       "  </thead>\n",
       "  <tbody>\n",
       "    <tr>\n",
       "      <th>0</th>\n",
       "      <td>2019-09-01</td>\n",
       "      <td>Merchandiser</td>\n",
       "      <td>General Products Department</td>\n",
       "      <td>1.879452</td>\n",
       "      <td>1</td>\n",
       "      <td>0</td>\n",
       "      <td>1</td>\n",
       "    </tr>\n",
       "    <tr>\n",
       "      <th>1</th>\n",
       "      <td>2019-08-27</td>\n",
       "      <td>Merchandiser</td>\n",
       "      <td>Consumer Products Department</td>\n",
       "      <td>7.104110</td>\n",
       "      <td>1</td>\n",
       "      <td>1</td>\n",
       "      <td>0</td>\n",
       "    </tr>\n",
       "    <tr>\n",
       "      <th>2</th>\n",
       "      <td>2019-06-13</td>\n",
       "      <td>Merchandiser</td>\n",
       "      <td>Consumer Products Department</td>\n",
       "      <td>3.791781</td>\n",
       "      <td>1</td>\n",
       "      <td>1</td>\n",
       "      <td>0</td>\n",
       "    </tr>\n",
       "    <tr>\n",
       "      <th>3</th>\n",
       "      <td>2019-05-08</td>\n",
       "      <td>Merchandiser</td>\n",
       "      <td>Consumer Products Department</td>\n",
       "      <td>6.427397</td>\n",
       "      <td>1</td>\n",
       "      <td>1</td>\n",
       "      <td>0</td>\n",
       "    </tr>\n",
       "    <tr>\n",
       "      <th>4</th>\n",
       "      <td>2019-05-01</td>\n",
       "      <td>Merchandiser</td>\n",
       "      <td>Consumer Products Department</td>\n",
       "      <td>3.361644</td>\n",
       "      <td>1</td>\n",
       "      <td>1</td>\n",
       "      <td>0</td>\n",
       "    </tr>\n",
       "  </tbody>\n",
       "</table>\n",
       "</div>"
      ],
      "text/plain": [
       "       leave           job                          dept   service  intercept  \\\n",
       "0 2019-09-01  Merchandiser   General Products Department  1.879452          1   \n",
       "1 2019-08-27  Merchandiser  Consumer Products Department  7.104110          1   \n",
       "2 2019-06-13  Merchandiser  Consumer Products Department  3.791781          1   \n",
       "3 2019-05-08  Merchandiser  Consumer Products Department  6.427397          1   \n",
       "4 2019-05-01  Merchandiser  Consumer Products Department  3.361644          1   \n",
       "\n",
       "   cpd  gpd  \n",
       "0    0    1  \n",
       "1    1    0  \n",
       "2    1    0  \n",
       "3    1    0  \n",
       "4    1    0  "
      ]
     },
     "execution_count": 23,
     "metadata": {},
     "output_type": "execute_result"
    }
   ],
   "source": [
    "df_dept_lin.head()"
   ]
  },
  {
   "cell_type": "code",
   "execution_count": 24,
   "metadata": {},
   "outputs": [
    {
     "data": {
      "text/html": [
       "<table class=\"simpletable\">\n",
       "<caption>OLS Regression Results</caption>\n",
       "<tr>\n",
       "  <th>Dep. Variable:</th>         <td>service</td>     <th>  R-squared:         </th> <td>   0.011</td>\n",
       "</tr>\n",
       "<tr>\n",
       "  <th>Model:</th>                   <td>OLS</td>       <th>  Adj. R-squared:    </th> <td>  -0.001</td>\n",
       "</tr>\n",
       "<tr>\n",
       "  <th>Method:</th>             <td>Least Squares</td>  <th>  F-statistic:       </th> <td>  0.9465</td>\n",
       "</tr>\n",
       "<tr>\n",
       "  <th>Date:</th>             <td>Thu, 27 Feb 2020</td> <th>  Prob (F-statistic):</th>  <td> 0.333</td> \n",
       "</tr>\n",
       "<tr>\n",
       "  <th>Time:</th>                 <td>11:03:17</td>     <th>  Log-Likelihood:    </th> <td> -224.42</td>\n",
       "</tr>\n",
       "<tr>\n",
       "  <th>No. Observations:</th>      <td>    90</td>      <th>  AIC:               </th> <td>   452.8</td>\n",
       "</tr>\n",
       "<tr>\n",
       "  <th>Df Residuals:</th>          <td>    88</td>      <th>  BIC:               </th> <td>   457.8</td>\n",
       "</tr>\n",
       "<tr>\n",
       "  <th>Df Model:</th>              <td>     1</td>      <th>                     </th>     <td> </td>   \n",
       "</tr>\n",
       "<tr>\n",
       "  <th>Covariance Type:</th>      <td>nonrobust</td>    <th>                     </th>     <td> </td>   \n",
       "</tr>\n",
       "</table>\n",
       "<table class=\"simpletable\">\n",
       "<tr>\n",
       "      <td></td>         <th>coef</th>     <th>std err</th>      <th>t</th>      <th>P>|t|</th>  <th>[0.025</th>    <th>0.975]</th>  \n",
       "</tr>\n",
       "<tr>\n",
       "  <th>intercept</th> <td>    4.3704</td> <td>    0.357</td> <td>   12.256</td> <td> 0.000</td> <td>    3.662</td> <td>    5.079</td>\n",
       "</tr>\n",
       "<tr>\n",
       "  <th>gpd</th>       <td>    0.7182</td> <td>    0.738</td> <td>    0.973</td> <td> 0.333</td> <td>   -0.749</td> <td>    2.185</td>\n",
       "</tr>\n",
       "</table>\n",
       "<table class=\"simpletable\">\n",
       "<tr>\n",
       "  <th>Omnibus:</th>       <td>38.341</td> <th>  Durbin-Watson:     </th> <td>   1.936</td>\n",
       "</tr>\n",
       "<tr>\n",
       "  <th>Prob(Omnibus):</th> <td> 0.000</td> <th>  Jarque-Bera (JB):  </th> <td>  84.340</td>\n",
       "</tr>\n",
       "<tr>\n",
       "  <th>Skew:</th>          <td> 1.594</td> <th>  Prob(JB):          </th> <td>4.85e-19</td>\n",
       "</tr>\n",
       "<tr>\n",
       "  <th>Kurtosis:</th>      <td> 6.512</td> <th>  Cond. No.          </th> <td>    2.52</td>\n",
       "</tr>\n",
       "</table><br/><br/>Warnings:<br/>[1] Standard Errors assume that the covariance matrix of the errors is correctly specified."
      ],
      "text/plain": [
       "<class 'statsmodels.iolib.summary.Summary'>\n",
       "\"\"\"\n",
       "                            OLS Regression Results                            \n",
       "==============================================================================\n",
       "Dep. Variable:                service   R-squared:                       0.011\n",
       "Model:                            OLS   Adj. R-squared:                 -0.001\n",
       "Method:                 Least Squares   F-statistic:                    0.9465\n",
       "Date:                Thu, 27 Feb 2020   Prob (F-statistic):              0.333\n",
       "Time:                        11:03:17   Log-Likelihood:                -224.42\n",
       "No. Observations:                  90   AIC:                             452.8\n",
       "Df Residuals:                      88   BIC:                             457.8\n",
       "Df Model:                           1                                         \n",
       "Covariance Type:            nonrobust                                         \n",
       "==============================================================================\n",
       "                 coef    std err          t      P>|t|      [0.025      0.975]\n",
       "------------------------------------------------------------------------------\n",
       "intercept      4.3704      0.357     12.256      0.000       3.662       5.079\n",
       "gpd            0.7182      0.738      0.973      0.333      -0.749       2.185\n",
       "==============================================================================\n",
       "Omnibus:                       38.341   Durbin-Watson:                   1.936\n",
       "Prob(Omnibus):                  0.000   Jarque-Bera (JB):               84.340\n",
       "Skew:                           1.594   Prob(JB):                     4.85e-19\n",
       "Kurtosis:                       6.512   Cond. No.                         2.52\n",
       "==============================================================================\n",
       "\n",
       "Warnings:\n",
       "[1] Standard Errors assume that the covariance matrix of the errors is correctly specified.\n",
       "\"\"\""
      ]
     },
     "execution_count": 24,
     "metadata": {},
     "output_type": "execute_result"
    }
   ],
   "source": [
    "lm = sm.OLS(df_dept_lin[\"service\"], df_dept_lin[[\"intercept\",\"gpd\"]]).fit()\n",
    "lm.summary()"
   ]
  },
  {
   "cell_type": "markdown",
   "metadata": {},
   "source": [
    "- ### The coef here indicates that for each one unit in baseline CPD, it increases 0.7 in gpd which is the difference for baseline   \n",
    "- ### Also our P-value here states that the alternative hypothesis is not statistically significant and we fail to reject the null"
   ]
  }
 ],
 "metadata": {
  "kernelspec": {
   "display_name": "Python 3",
   "language": "python",
   "name": "python3"
  },
  "language_info": {
   "codemirror_mode": {
    "name": "ipython",
    "version": 3
   },
   "file_extension": ".py",
   "mimetype": "text/x-python",
   "name": "python",
   "nbconvert_exporter": "python",
   "pygments_lexer": "ipython3",
   "version": "3.6.8"
  }
 },
 "nbformat": 4,
 "nbformat_minor": 4
}
