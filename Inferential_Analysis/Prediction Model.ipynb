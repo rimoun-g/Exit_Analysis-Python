{
 "cells": [
  {
   "cell_type": "code",
   "execution_count": 66,
   "metadata": {},
   "outputs": [
    {
     "name": "stdout",
     "output_type": "stream",
     "text": [
      "Imported Necessary libs\n"
     ]
    }
   ],
   "source": [
    "import pandas as pd\n",
    "import numpy as np\n",
    "import matplotlib.pyplot as plt\n",
    "import seaborn as sns\n",
    "from sklearn.model_selection import train_test_split\n",
    "from sklearn.preprocessing import StandardScaler\n",
    "from sklearn import tree\n",
    "from IPython.display import display\n",
    "import statsmodels.api as sm\n",
    "from sklearn import svm\n",
    "import sklearn\n",
    "import pickle\n",
    "from statsmodels.sandbox.regression.predstd import wls_prediction_std\n",
    "from sklearn.model_selection import KFold\n",
    "plt.rcParams.update({'font.size': 14}) # setting plots font size for clarity\n",
    "print(\"Imported Necessary libs\")"
   ]
  },
  {
   "cell_type": "markdown",
   "metadata": {},
   "source": [
    "## Our goal is to build a model that predicts the service period of the employee before joining based on:\n",
    "- **Nationality**\n",
    "- **Job**\n",
    "- **Joining age**\n",
    "- **martial status**\n",
    "- **qualification**"
   ]
  },
  {
   "cell_type": "code",
   "execution_count": 2,
   "metadata": {},
   "outputs": [],
   "source": [
    "# reading data file\n",
    "df_main = pd.read_csv(r\"D:\\Work\\Products Databses\\personnel\\Notebooks\\Application of course\\New folder (2)\\Exit_Analysis\\Descriptive_Analysis_2\\full_exit_data_cleaned.csv\")"
   ]
  },
  {
   "cell_type": "code",
   "execution_count": 3,
   "metadata": {},
   "outputs": [
    {
     "data": {
      "text/html": [
       "<div>\n",
       "<style scoped>\n",
       "    .dataframe tbody tr th:only-of-type {\n",
       "        vertical-align: middle;\n",
       "    }\n",
       "\n",
       "    .dataframe tbody tr th {\n",
       "        vertical-align: top;\n",
       "    }\n",
       "\n",
       "    .dataframe thead th {\n",
       "        text-align: right;\n",
       "    }\n",
       "</style>\n",
       "<table border=\"1\" class=\"dataframe\">\n",
       "  <thead>\n",
       "    <tr style=\"text-align: right;\">\n",
       "      <th></th>\n",
       "      <th>leave</th>\n",
       "      <th>nat</th>\n",
       "      <th>dept</th>\n",
       "      <th>job</th>\n",
       "      <th>join</th>\n",
       "      <th>martial_status</th>\n",
       "      <th>birth_date</th>\n",
       "      <th>qualification</th>\n",
       "      <th>service</th>\n",
       "      <th>join_age</th>\n",
       "    </tr>\n",
       "  </thead>\n",
       "  <tbody>\n",
       "    <tr>\n",
       "      <th>0</th>\n",
       "      <td>2012-03-10</td>\n",
       "      <td>Nepalese</td>\n",
       "      <td>Consumer Products</td>\n",
       "      <td>Merchandiser</td>\n",
       "      <td>2008-05-03</td>\n",
       "      <td>Single</td>\n",
       "      <td>1986-01-29</td>\n",
       "      <td>NaN</td>\n",
       "      <td>3.854795</td>\n",
       "      <td>22.273973</td>\n",
       "    </tr>\n",
       "    <tr>\n",
       "      <th>1</th>\n",
       "      <td>2012-05-09</td>\n",
       "      <td>Filipino</td>\n",
       "      <td>Consumer Products</td>\n",
       "      <td>Assistant Sales Executive</td>\n",
       "      <td>2002-07-20</td>\n",
       "      <td>Married</td>\n",
       "      <td>1978-08-20</td>\n",
       "      <td>NaN</td>\n",
       "      <td>9.810959</td>\n",
       "      <td>23.931507</td>\n",
       "    </tr>\n",
       "    <tr>\n",
       "      <th>2</th>\n",
       "      <td>2012-05-11</td>\n",
       "      <td>Nepalese</td>\n",
       "      <td>Consumer Products</td>\n",
       "      <td>Merchandiser</td>\n",
       "      <td>2010-05-08</td>\n",
       "      <td>Single</td>\n",
       "      <td>1985-10-13</td>\n",
       "      <td>NaN</td>\n",
       "      <td>2.010959</td>\n",
       "      <td>24.583562</td>\n",
       "    </tr>\n",
       "    <tr>\n",
       "      <th>3</th>\n",
       "      <td>2012-06-12</td>\n",
       "      <td>Nepalese</td>\n",
       "      <td>Home Appliances Service Center</td>\n",
       "      <td>Helper</td>\n",
       "      <td>2007-03-12</td>\n",
       "      <td>Single</td>\n",
       "      <td>1987-12-01</td>\n",
       "      <td>NaN</td>\n",
       "      <td>5.257534</td>\n",
       "      <td>19.290411</td>\n",
       "    </tr>\n",
       "    <tr>\n",
       "      <th>4</th>\n",
       "      <td>2012-07-10</td>\n",
       "      <td>Nepalese</td>\n",
       "      <td>Consumer Electronics &amp; Home Appliances</td>\n",
       "      <td>Merchandiser</td>\n",
       "      <td>2008-01-04</td>\n",
       "      <td>Single</td>\n",
       "      <td>1982-06-08</td>\n",
       "      <td>NaN</td>\n",
       "      <td>4.517808</td>\n",
       "      <td>25.591781</td>\n",
       "    </tr>\n",
       "  </tbody>\n",
       "</table>\n",
       "</div>"
      ],
      "text/plain": [
       "        leave       nat                                    dept  \\\n",
       "0  2012-03-10  Nepalese                       Consumer Products   \n",
       "1  2012-05-09  Filipino                       Consumer Products   \n",
       "2  2012-05-11  Nepalese                       Consumer Products   \n",
       "3  2012-06-12  Nepalese          Home Appliances Service Center   \n",
       "4  2012-07-10  Nepalese  Consumer Electronics & Home Appliances   \n",
       "\n",
       "                         job        join martial_status  birth_date  \\\n",
       "0               Merchandiser  2008-05-03         Single  1986-01-29   \n",
       "1  Assistant Sales Executive  2002-07-20        Married  1978-08-20   \n",
       "2               Merchandiser  2010-05-08         Single  1985-10-13   \n",
       "3                     Helper  2007-03-12         Single  1987-12-01   \n",
       "4               Merchandiser  2008-01-04         Single  1982-06-08   \n",
       "\n",
       "  qualification   service   join_age  \n",
       "0           NaN  3.854795  22.273973  \n",
       "1           NaN  9.810959  23.931507  \n",
       "2           NaN  2.010959  24.583562  \n",
       "3           NaN  5.257534  19.290411  \n",
       "4           NaN  4.517808  25.591781  "
      ]
     },
     "execution_count": 3,
     "metadata": {},
     "output_type": "execute_result"
    }
   ],
   "source": [
    "df_main.head()"
   ]
  },
  {
   "cell_type": "code",
   "execution_count": 4,
   "metadata": {},
   "outputs": [
    {
     "name": "stdout",
     "output_type": "stream",
     "text": [
      "<class 'pandas.core.frame.DataFrame'>\n",
      "RangeIndex: 863 entries, 0 to 862\n",
      "Data columns (total 10 columns):\n",
      " #   Column          Non-Null Count  Dtype  \n",
      "---  ------          --------------  -----  \n",
      " 0   leave           863 non-null    object \n",
      " 1   nat             863 non-null    object \n",
      " 2   dept            863 non-null    object \n",
      " 3   job             863 non-null    object \n",
      " 4   join            863 non-null    object \n",
      " 5   martial_status  863 non-null    object \n",
      " 6   birth_date      863 non-null    object \n",
      " 7   qualification   719 non-null    object \n",
      " 8   service         863 non-null    float64\n",
      " 9   join_age        863 non-null    float64\n",
      "dtypes: float64(2), object(8)\n",
      "memory usage: 67.5+ KB\n"
     ]
    }
   ],
   "source": [
    "# exploring dataframe\n",
    "df_main.info()"
   ]
  },
  {
   "cell_type": "markdown",
   "metadata": {},
   "source": [
    "As we notice that there are some missing values in qualification column.  \n",
    "We can remove them, however we do not want to lose data as the dataset is already small.  \n",
    "Thus, we can try to use decision tree to predict the missing values in qualification columns"
   ]
  },
  {
   "cell_type": "markdown",
   "metadata": {},
   "source": [
    "### **Firstly:** We need to prepare the data\n",
    "- There are a lot of jobs so, if we want to use the job as a value to predict service period, we should limit this to the top 10 jobs for higher accuracy.\n",
    "- Convert categorical to dummy values\n"
   ]
  },
  {
   "cell_type": "code",
   "execution_count": 5,
   "metadata": {},
   "outputs": [
    {
     "data": {
      "text/plain": [
       "Merchandiser              189\n",
       "Helper                     61\n",
       "Sales Executive            49\n",
       "Driver                     40\n",
       "Technician                 33\n",
       "Asst Technician            24\n",
       "Senior Sales Executive     22\n",
       "Warehouse Asst             20\n",
       "Van Salesman               20\n",
       "Technician - Air Cons      18\n",
       "Name: job, dtype: int64"
      ]
     },
     "execution_count": 5,
     "metadata": {},
     "output_type": "execute_result"
    }
   ],
   "source": [
    "df_main.job.value_counts()[:10]"
   ]
  },
  {
   "cell_type": "code",
   "execution_count": 6,
   "metadata": {},
   "outputs": [],
   "source": [
    "# creating dataframe for the top 10 common jobs in the file as we have a lot\n",
    "df_top_10_jobs = df_main[(df_main[\"job\"] == \"Merchandiser\") | (df_main[\"job\"] == \"Driver\") | (df_main[\"job\"] == \"Helper\") | (df_main[\"job\"] == \"Sales Executive\") | (df_main[\"job\"] == \"Technician\") | (df_main[\"job\"] == \"Technician - Air Cons\") | (df_main[\"job\"] == \"Van Salesman\") | (df_main[\"job\"] == \"Assistant Sales Executive\") | (df_main[\"job\"] == \"Senior Sales Executive\") | (df_main[\"job\"] == \"Senior Technician\")]"
   ]
  },
  {
   "cell_type": "code",
   "execution_count": 7,
   "metadata": {},
   "outputs": [],
   "source": [
    "df_dums = pd.get_dummies(df_top_10_jobs[[\"nat\",\"dept\",\"job\",\"martial_status\"]])"
   ]
  },
  {
   "cell_type": "code",
   "execution_count": 8,
   "metadata": {},
   "outputs": [
    {
     "data": {
      "text/html": [
       "<div>\n",
       "<style scoped>\n",
       "    .dataframe tbody tr th:only-of-type {\n",
       "        vertical-align: middle;\n",
       "    }\n",
       "\n",
       "    .dataframe tbody tr th {\n",
       "        vertical-align: top;\n",
       "    }\n",
       "\n",
       "    .dataframe thead th {\n",
       "        text-align: right;\n",
       "    }\n",
       "</style>\n",
       "<table border=\"1\" class=\"dataframe\">\n",
       "  <thead>\n",
       "    <tr style=\"text-align: right;\">\n",
       "      <th></th>\n",
       "      <th>nat_Bangladeshi</th>\n",
       "      <th>nat_Egyptian</th>\n",
       "      <th>nat_Filipino</th>\n",
       "      <th>nat_Indian</th>\n",
       "      <th>nat_Jordanian</th>\n",
       "      <th>nat_Kenyan</th>\n",
       "      <th>nat_Moroccan</th>\n",
       "      <th>nat_Nepalese</th>\n",
       "      <th>nat_Pakistani</th>\n",
       "      <th>nat_Sri Lankan</th>\n",
       "      <th>...</th>\n",
       "      <th>job_Technician</th>\n",
       "      <th>job_Technician - Air Cons</th>\n",
       "      <th>job_Van Salesman</th>\n",
       "      <th>martial_status_Divorced</th>\n",
       "      <th>martial_status_Married</th>\n",
       "      <th>martial_status_Single</th>\n",
       "      <th>martial_status_Widow</th>\n",
       "      <th>join_age</th>\n",
       "      <th>service</th>\n",
       "      <th>qualification</th>\n",
       "    </tr>\n",
       "  </thead>\n",
       "  <tbody>\n",
       "    <tr>\n",
       "      <th>0</th>\n",
       "      <td>0</td>\n",
       "      <td>0</td>\n",
       "      <td>0</td>\n",
       "      <td>0</td>\n",
       "      <td>0</td>\n",
       "      <td>0</td>\n",
       "      <td>0</td>\n",
       "      <td>1</td>\n",
       "      <td>0</td>\n",
       "      <td>0</td>\n",
       "      <td>...</td>\n",
       "      <td>0</td>\n",
       "      <td>0</td>\n",
       "      <td>0</td>\n",
       "      <td>0</td>\n",
       "      <td>0</td>\n",
       "      <td>1</td>\n",
       "      <td>0</td>\n",
       "      <td>22.273973</td>\n",
       "      <td>3.854795</td>\n",
       "      <td>NaN</td>\n",
       "    </tr>\n",
       "    <tr>\n",
       "      <th>1</th>\n",
       "      <td>0</td>\n",
       "      <td>0</td>\n",
       "      <td>1</td>\n",
       "      <td>0</td>\n",
       "      <td>0</td>\n",
       "      <td>0</td>\n",
       "      <td>0</td>\n",
       "      <td>0</td>\n",
       "      <td>0</td>\n",
       "      <td>0</td>\n",
       "      <td>...</td>\n",
       "      <td>0</td>\n",
       "      <td>0</td>\n",
       "      <td>0</td>\n",
       "      <td>0</td>\n",
       "      <td>1</td>\n",
       "      <td>0</td>\n",
       "      <td>0</td>\n",
       "      <td>23.931507</td>\n",
       "      <td>9.810959</td>\n",
       "      <td>NaN</td>\n",
       "    </tr>\n",
       "    <tr>\n",
       "      <th>2</th>\n",
       "      <td>0</td>\n",
       "      <td>0</td>\n",
       "      <td>0</td>\n",
       "      <td>0</td>\n",
       "      <td>0</td>\n",
       "      <td>0</td>\n",
       "      <td>0</td>\n",
       "      <td>1</td>\n",
       "      <td>0</td>\n",
       "      <td>0</td>\n",
       "      <td>...</td>\n",
       "      <td>0</td>\n",
       "      <td>0</td>\n",
       "      <td>0</td>\n",
       "      <td>0</td>\n",
       "      <td>0</td>\n",
       "      <td>1</td>\n",
       "      <td>0</td>\n",
       "      <td>24.583562</td>\n",
       "      <td>2.010959</td>\n",
       "      <td>NaN</td>\n",
       "    </tr>\n",
       "    <tr>\n",
       "      <th>3</th>\n",
       "      <td>0</td>\n",
       "      <td>0</td>\n",
       "      <td>0</td>\n",
       "      <td>0</td>\n",
       "      <td>0</td>\n",
       "      <td>0</td>\n",
       "      <td>0</td>\n",
       "      <td>1</td>\n",
       "      <td>0</td>\n",
       "      <td>0</td>\n",
       "      <td>...</td>\n",
       "      <td>0</td>\n",
       "      <td>0</td>\n",
       "      <td>0</td>\n",
       "      <td>0</td>\n",
       "      <td>0</td>\n",
       "      <td>1</td>\n",
       "      <td>0</td>\n",
       "      <td>19.290411</td>\n",
       "      <td>5.257534</td>\n",
       "      <td>NaN</td>\n",
       "    </tr>\n",
       "    <tr>\n",
       "      <th>4</th>\n",
       "      <td>0</td>\n",
       "      <td>0</td>\n",
       "      <td>0</td>\n",
       "      <td>0</td>\n",
       "      <td>0</td>\n",
       "      <td>0</td>\n",
       "      <td>0</td>\n",
       "      <td>1</td>\n",
       "      <td>0</td>\n",
       "      <td>0</td>\n",
       "      <td>...</td>\n",
       "      <td>0</td>\n",
       "      <td>0</td>\n",
       "      <td>0</td>\n",
       "      <td>0</td>\n",
       "      <td>0</td>\n",
       "      <td>1</td>\n",
       "      <td>0</td>\n",
       "      <td>25.591781</td>\n",
       "      <td>4.517808</td>\n",
       "      <td>NaN</td>\n",
       "    </tr>\n",
       "  </tbody>\n",
       "</table>\n",
       "<p>5 rows × 37 columns</p>\n",
       "</div>"
      ],
      "text/plain": [
       "   nat_Bangladeshi  nat_Egyptian  nat_Filipino  nat_Indian  nat_Jordanian  \\\n",
       "0                0             0             0           0              0   \n",
       "1                0             0             1           0              0   \n",
       "2                0             0             0           0              0   \n",
       "3                0             0             0           0              0   \n",
       "4                0             0             0           0              0   \n",
       "\n",
       "   nat_Kenyan  nat_Moroccan  nat_Nepalese  nat_Pakistani  nat_Sri Lankan  ...  \\\n",
       "0           0             0             1              0               0  ...   \n",
       "1           0             0             0              0               0  ...   \n",
       "2           0             0             1              0               0  ...   \n",
       "3           0             0             1              0               0  ...   \n",
       "4           0             0             1              0               0  ...   \n",
       "\n",
       "   job_Technician  job_Technician - Air Cons  job_Van Salesman  \\\n",
       "0               0                          0                 0   \n",
       "1               0                          0                 0   \n",
       "2               0                          0                 0   \n",
       "3               0                          0                 0   \n",
       "4               0                          0                 0   \n",
       "\n",
       "   martial_status_Divorced  martial_status_Married  martial_status_Single  \\\n",
       "0                        0                       0                      1   \n",
       "1                        0                       1                      0   \n",
       "2                        0                       0                      1   \n",
       "3                        0                       0                      1   \n",
       "4                        0                       0                      1   \n",
       "\n",
       "   martial_status_Widow   join_age   service  qualification  \n",
       "0                     0  22.273973  3.854795            NaN  \n",
       "1                     0  23.931507  9.810959            NaN  \n",
       "2                     0  24.583562  2.010959            NaN  \n",
       "3                     0  19.290411  5.257534            NaN  \n",
       "4                     0  25.591781  4.517808            NaN  \n",
       "\n",
       "[5 rows x 37 columns]"
      ]
     },
     "execution_count": 8,
     "metadata": {},
     "output_type": "execute_result"
    }
   ],
   "source": [
    "df_dt_2 = df_dums.join(df_top_10_jobs[[\"join_age\",\"service\",\"qualification\"]])\n",
    "df_dt_2.head()"
   ]
  },
  {
   "cell_type": "code",
   "execution_count": 9,
   "metadata": {},
   "outputs": [],
   "source": [
    "# standarizing the joining age\n",
    "scaler = StandardScaler()\n",
    "df_dt_2[\"join_age_scaled\"] = scaler.fit_transform(df_dt_2[[\"join_age\"]])"
   ]
  },
  {
   "cell_type": "code",
   "execution_count": 10,
   "metadata": {},
   "outputs": [
    {
     "data": {
      "text/plain": [
       "(array([28.17160648]), array([6.1953539]))"
      ]
     },
     "execution_count": 10,
     "metadata": {},
     "output_type": "execute_result"
    }
   ],
   "source": [
    "# finding the mean and std of the scaler\n",
    "scaler.mean_, scaler.scale_"
   ]
  },
  {
   "cell_type": "code",
   "execution_count": 11,
   "metadata": {},
   "outputs": [],
   "source": [
    "# creating dictionary of the qualification column values\n",
    "qual_dict = {\"Primary School\":1, \"High School\":2, \"Diploma\":3,\"Bachelors\":4, \"Masters\":5}\n",
    "df_dt_2.qualification.replace(qual_dict, inplace=True)"
   ]
  },
  {
   "cell_type": "code",
   "execution_count": 12,
   "metadata": {},
   "outputs": [
    {
     "data": {
      "text/html": [
       "<div>\n",
       "<style scoped>\n",
       "    .dataframe tbody tr th:only-of-type {\n",
       "        vertical-align: middle;\n",
       "    }\n",
       "\n",
       "    .dataframe tbody tr th {\n",
       "        vertical-align: top;\n",
       "    }\n",
       "\n",
       "    .dataframe thead th {\n",
       "        text-align: right;\n",
       "    }\n",
       "</style>\n",
       "<table border=\"1\" class=\"dataframe\">\n",
       "  <thead>\n",
       "    <tr style=\"text-align: right;\">\n",
       "      <th></th>\n",
       "      <th>nat_Bangladeshi</th>\n",
       "      <th>nat_Egyptian</th>\n",
       "      <th>nat_Filipino</th>\n",
       "      <th>nat_Indian</th>\n",
       "      <th>nat_Jordanian</th>\n",
       "      <th>nat_Kenyan</th>\n",
       "      <th>nat_Moroccan</th>\n",
       "      <th>nat_Nepalese</th>\n",
       "      <th>nat_Pakistani</th>\n",
       "      <th>nat_Sri Lankan</th>\n",
       "      <th>...</th>\n",
       "      <th>job_Technician - Air Cons</th>\n",
       "      <th>job_Van Salesman</th>\n",
       "      <th>martial_status_Divorced</th>\n",
       "      <th>martial_status_Married</th>\n",
       "      <th>martial_status_Single</th>\n",
       "      <th>martial_status_Widow</th>\n",
       "      <th>join_age</th>\n",
       "      <th>service</th>\n",
       "      <th>qualification</th>\n",
       "      <th>join_age_scaled</th>\n",
       "    </tr>\n",
       "  </thead>\n",
       "  <tbody>\n",
       "    <tr>\n",
       "      <th>0</th>\n",
       "      <td>0</td>\n",
       "      <td>0</td>\n",
       "      <td>1</td>\n",
       "      <td>0</td>\n",
       "      <td>0</td>\n",
       "      <td>0</td>\n",
       "      <td>0</td>\n",
       "      <td>0</td>\n",
       "      <td>0</td>\n",
       "      <td>0</td>\n",
       "      <td>...</td>\n",
       "      <td>0</td>\n",
       "      <td>0</td>\n",
       "      <td>0</td>\n",
       "      <td>1</td>\n",
       "      <td>0</td>\n",
       "      <td>0</td>\n",
       "      <td>31.578082</td>\n",
       "      <td>7.131507</td>\n",
       "      <td>4.0</td>\n",
       "      <td>0.549844</td>\n",
       "    </tr>\n",
       "    <tr>\n",
       "      <th>1</th>\n",
       "      <td>0</td>\n",
       "      <td>0</td>\n",
       "      <td>0</td>\n",
       "      <td>1</td>\n",
       "      <td>0</td>\n",
       "      <td>0</td>\n",
       "      <td>0</td>\n",
       "      <td>0</td>\n",
       "      <td>0</td>\n",
       "      <td>0</td>\n",
       "      <td>...</td>\n",
       "      <td>0</td>\n",
       "      <td>0</td>\n",
       "      <td>0</td>\n",
       "      <td>0</td>\n",
       "      <td>1</td>\n",
       "      <td>0</td>\n",
       "      <td>23.468493</td>\n",
       "      <td>2.235616</td>\n",
       "      <td>2.0</td>\n",
       "      <td>-0.759136</td>\n",
       "    </tr>\n",
       "    <tr>\n",
       "      <th>2</th>\n",
       "      <td>0</td>\n",
       "      <td>0</td>\n",
       "      <td>0</td>\n",
       "      <td>1</td>\n",
       "      <td>0</td>\n",
       "      <td>0</td>\n",
       "      <td>0</td>\n",
       "      <td>0</td>\n",
       "      <td>0</td>\n",
       "      <td>0</td>\n",
       "      <td>...</td>\n",
       "      <td>0</td>\n",
       "      <td>1</td>\n",
       "      <td>0</td>\n",
       "      <td>1</td>\n",
       "      <td>0</td>\n",
       "      <td>0</td>\n",
       "      <td>26.769863</td>\n",
       "      <td>4.186301</td>\n",
       "      <td>2.0</td>\n",
       "      <td>-0.226257</td>\n",
       "    </tr>\n",
       "    <tr>\n",
       "      <th>3</th>\n",
       "      <td>0</td>\n",
       "      <td>0</td>\n",
       "      <td>0</td>\n",
       "      <td>0</td>\n",
       "      <td>0</td>\n",
       "      <td>0</td>\n",
       "      <td>0</td>\n",
       "      <td>0</td>\n",
       "      <td>0</td>\n",
       "      <td>1</td>\n",
       "      <td>...</td>\n",
       "      <td>0</td>\n",
       "      <td>0</td>\n",
       "      <td>0</td>\n",
       "      <td>1</td>\n",
       "      <td>0</td>\n",
       "      <td>0</td>\n",
       "      <td>28.619178</td>\n",
       "      <td>5.947945</td>\n",
       "      <td>2.0</td>\n",
       "      <td>0.072243</td>\n",
       "    </tr>\n",
       "    <tr>\n",
       "      <th>4</th>\n",
       "      <td>0</td>\n",
       "      <td>0</td>\n",
       "      <td>0</td>\n",
       "      <td>1</td>\n",
       "      <td>0</td>\n",
       "      <td>0</td>\n",
       "      <td>0</td>\n",
       "      <td>0</td>\n",
       "      <td>0</td>\n",
       "      <td>0</td>\n",
       "      <td>...</td>\n",
       "      <td>0</td>\n",
       "      <td>0</td>\n",
       "      <td>0</td>\n",
       "      <td>1</td>\n",
       "      <td>0</td>\n",
       "      <td>0</td>\n",
       "      <td>31.268493</td>\n",
       "      <td>6.810959</td>\n",
       "      <td>2.0</td>\n",
       "      <td>0.499872</td>\n",
       "    </tr>\n",
       "  </tbody>\n",
       "</table>\n",
       "<p>5 rows × 38 columns</p>\n",
       "</div>"
      ],
      "text/plain": [
       "   nat_Bangladeshi  nat_Egyptian  nat_Filipino  nat_Indian  nat_Jordanian  \\\n",
       "0                0             0             1           0              0   \n",
       "1                0             0             0           1              0   \n",
       "2                0             0             0           1              0   \n",
       "3                0             0             0           0              0   \n",
       "4                0             0             0           1              0   \n",
       "\n",
       "   nat_Kenyan  nat_Moroccan  nat_Nepalese  nat_Pakistani  nat_Sri Lankan  ...  \\\n",
       "0           0             0             0              0               0  ...   \n",
       "1           0             0             0              0               0  ...   \n",
       "2           0             0             0              0               0  ...   \n",
       "3           0             0             0              0               1  ...   \n",
       "4           0             0             0              0               0  ...   \n",
       "\n",
       "   job_Technician - Air Cons  job_Van Salesman  martial_status_Divorced  \\\n",
       "0                          0                 0                        0   \n",
       "1                          0                 0                        0   \n",
       "2                          0                 1                        0   \n",
       "3                          0                 0                        0   \n",
       "4                          0                 0                        0   \n",
       "\n",
       "   martial_status_Married  martial_status_Single  martial_status_Widow  \\\n",
       "0                       1                      0                     0   \n",
       "1                       0                      1                     0   \n",
       "2                       1                      0                     0   \n",
       "3                       1                      0                     0   \n",
       "4                       1                      0                     0   \n",
       "\n",
       "    join_age   service  qualification  join_age_scaled  \n",
       "0  31.578082  7.131507            4.0         0.549844  \n",
       "1  23.468493  2.235616            2.0        -0.759136  \n",
       "2  26.769863  4.186301            2.0        -0.226257  \n",
       "3  28.619178  5.947945            2.0         0.072243  \n",
       "4  31.268493  6.810959            2.0         0.499872  \n",
       "\n",
       "[5 rows x 38 columns]"
      ]
     },
     "execution_count": 12,
     "metadata": {},
     "output_type": "execute_result"
    }
   ],
   "source": [
    "# excluding our missing qualification rows\n",
    "df_dt_no_null = df_dt_2[df_dt_2[\"qualification\"].isna()==False].reset_index(drop=True)\n",
    "df_dt_no_null.head()"
   ]
  },
  {
   "cell_type": "code",
   "execution_count": 13,
   "metadata": {},
   "outputs": [],
   "source": [
    "# creating X & y for fitting the model\n",
    "X = df_dt_no_null[df_dt_no_null.columns[(df_dt_no_null.columns != \"qualification\")]]\n",
    "y = df_dt_no_null[\"qualification\"]"
   ]
  },
  {
   "cell_type": "code",
   "execution_count": 14,
   "metadata": {},
   "outputs": [],
   "source": [
    "# splitting the date into two parts 80%, 20%\n",
    "X_train, X_test, y_train, y_test = train_test_split(X,y,test_size=0.2,random_state=44)"
   ]
  },
  {
   "cell_type": "code",
   "execution_count": 18,
   "metadata": {},
   "outputs": [
    {
     "name": "stderr",
     "output_type": "stream",
     "text": [
      "C:\\Users\\g_rimoun\\AppData\\Local\\Continuum\\miniconda3\\lib\\site-packages\\sklearn\\svm\\base.py:193: FutureWarning: The default value of gamma will change from 'auto' to 'scale' in version 0.22 to account better for unscaled features. Set gamma explicitly to 'auto' or 'scale' to avoid this warning.\n",
      "  \"avoid this warning.\", FutureWarning)\n"
     ]
    }
   ],
   "source": [
    "# fitting support vector machine model\n",
    "SVM_model = svm.SVC().fit(X_train, y_train)"
   ]
  },
  {
   "cell_type": "code",
   "execution_count": 19,
   "metadata": {},
   "outputs": [],
   "source": [
    "# predicting the values of the test set\n",
    "y_hat = SVM_model.predict(X_test)"
   ]
  },
  {
   "cell_type": "code",
   "execution_count": 20,
   "metadata": {},
   "outputs": [
    {
     "name": "stdout",
     "output_type": "stream",
     "text": [
      "              precision    recall  f1-score   support\n",
      "\n",
      "         1.0       0.00      0.00      0.00         1\n",
      "         2.0       0.82      1.00      0.90        62\n",
      "         3.0       0.00      0.00      0.00         4\n",
      "         4.0       0.00      0.00      0.00         6\n",
      "         5.0       0.00      0.00      0.00         3\n",
      "\n",
      "    accuracy                           0.82        76\n",
      "   macro avg       0.16      0.20      0.18        76\n",
      "weighted avg       0.67      0.82      0.73        76\n",
      "\n"
     ]
    },
    {
     "name": "stderr",
     "output_type": "stream",
     "text": [
      "C:\\Users\\g_rimoun\\AppData\\Local\\Continuum\\miniconda3\\lib\\site-packages\\sklearn\\metrics\\classification.py:1437: UndefinedMetricWarning: Precision and F-score are ill-defined and being set to 0.0 in labels with no predicted samples.\n",
      "  'precision', 'predicted', average, warn_for)\n"
     ]
    }
   ],
   "source": [
    "# printing the classificaiton report to show some statistics about model performance\n",
    "print(sklearn.metrics.classification_report(y_test,y_hat))"
   ]
  },
  {
   "cell_type": "code",
   "execution_count": 21,
   "metadata": {},
   "outputs": [],
   "source": [
    "# fitting decision tree classifier\n",
    "dt_model = tree.DecisionTreeClassifier().fit(X_train, y_train)"
   ]
  },
  {
   "cell_type": "code",
   "execution_count": 22,
   "metadata": {},
   "outputs": [
    {
     "name": "stdout",
     "output_type": "stream",
     "text": [
      "              precision    recall  f1-score   support\n",
      "\n",
      "         1.0       0.00      0.00      0.00         1\n",
      "         2.0       0.93      0.87      0.90        62\n",
      "         3.0       0.20      0.25      0.22         4\n",
      "         4.0       0.30      0.50      0.37         6\n",
      "         5.0       1.00      0.33      0.50         3\n",
      "\n",
      "    accuracy                           0.78        76\n",
      "   macro avg       0.49      0.39      0.40        76\n",
      "weighted avg       0.83      0.78      0.80        76\n",
      "\n"
     ]
    }
   ],
   "source": [
    "# printing the classificaiton report to show some statistics about model performance\n",
    "print(sklearn.metrics.classification_report(y_test,dt_model.predict(X_test)))"
   ]
  },
  {
   "cell_type": "markdown",
   "metadata": {},
   "source": [
    "It sounds like SVM has higher accuracy to predict than decision tree, so we will use SVM to predict the missing values"
   ]
  },
  {
   "cell_type": "code",
   "execution_count": 23,
   "metadata": {},
   "outputs": [],
   "source": [
    "# we create a dataset that includes all missing values of qualification column\n",
    "df_qual_null = df_dt_2[df_dt_2[\"qualification\"].isna()==True].reset_index(drop=True)"
   ]
  },
  {
   "cell_type": "code",
   "execution_count": 24,
   "metadata": {},
   "outputs": [],
   "source": [
    "# we predict the missing qualification values\n",
    "real_X = df_qual_null[df_qual_null.columns[(df_qual_null.columns != \"qualification\")]]\n",
    "predicted_qual = SVM_model.predict(real_X)"
   ]
  },
  {
   "cell_type": "code",
   "execution_count": 25,
   "metadata": {},
   "outputs": [],
   "source": [
    "# replacing the values with our prediction to make the dataset full and ready\n",
    "df_dt_2.loc[df_dt_2[\"qualification\"].isna()==True, \"qualification\"] = predicted_qual"
   ]
  },
  {
   "cell_type": "code",
   "execution_count": 26,
   "metadata": {},
   "outputs": [],
   "source": [
    "# we drop the joining aged as we have it in its scaled form\n",
    "df_dt_2.drop(\"join_age\", axis=1, inplace=True)"
   ]
  },
  {
   "cell_type": "markdown",
   "metadata": {},
   "source": [
    "Now we have our data ready for linear regression so we will save this dataframe in a CSV file for easier access next times"
   ]
  },
  {
   "cell_type": "code",
   "execution_count": 27,
   "metadata": {},
   "outputs": [],
   "source": [
    "# saving the dataframe to a CSV file\n",
    "df_dt_2.to_csv(\"exit_top10_jobs_linear.csv\")"
   ]
  },
  {
   "cell_type": "code",
   "execution_count": 28,
   "metadata": {},
   "outputs": [
    {
     "data": {
      "text/html": [
       "<div>\n",
       "<style scoped>\n",
       "    .dataframe tbody tr th:only-of-type {\n",
       "        vertical-align: middle;\n",
       "    }\n",
       "\n",
       "    .dataframe tbody tr th {\n",
       "        vertical-align: top;\n",
       "    }\n",
       "\n",
       "    .dataframe thead th {\n",
       "        text-align: right;\n",
       "    }\n",
       "</style>\n",
       "<table border=\"1\" class=\"dataframe\">\n",
       "  <thead>\n",
       "    <tr style=\"text-align: right;\">\n",
       "      <th></th>\n",
       "      <th>nat_Bangladeshi</th>\n",
       "      <th>nat_Egyptian</th>\n",
       "      <th>nat_Filipino</th>\n",
       "      <th>nat_Indian</th>\n",
       "      <th>nat_Jordanian</th>\n",
       "      <th>nat_Kenyan</th>\n",
       "      <th>nat_Moroccan</th>\n",
       "      <th>nat_Nepalese</th>\n",
       "      <th>nat_Pakistani</th>\n",
       "      <th>nat_Sri Lankan</th>\n",
       "      <th>...</th>\n",
       "      <th>job_Technician</th>\n",
       "      <th>job_Technician - Air Cons</th>\n",
       "      <th>job_Van Salesman</th>\n",
       "      <th>martial_status_Divorced</th>\n",
       "      <th>martial_status_Married</th>\n",
       "      <th>martial_status_Single</th>\n",
       "      <th>martial_status_Widow</th>\n",
       "      <th>service</th>\n",
       "      <th>qualification</th>\n",
       "      <th>join_age_scaled</th>\n",
       "    </tr>\n",
       "  </thead>\n",
       "  <tbody>\n",
       "    <tr>\n",
       "      <th>0</th>\n",
       "      <td>0</td>\n",
       "      <td>0</td>\n",
       "      <td>0</td>\n",
       "      <td>0</td>\n",
       "      <td>0</td>\n",
       "      <td>0</td>\n",
       "      <td>0</td>\n",
       "      <td>1</td>\n",
       "      <td>0</td>\n",
       "      <td>0</td>\n",
       "      <td>...</td>\n",
       "      <td>0</td>\n",
       "      <td>0</td>\n",
       "      <td>0</td>\n",
       "      <td>0</td>\n",
       "      <td>0</td>\n",
       "      <td>1</td>\n",
       "      <td>0</td>\n",
       "      <td>3.854795</td>\n",
       "      <td>2.0</td>\n",
       "      <td>-0.951945</td>\n",
       "    </tr>\n",
       "    <tr>\n",
       "      <th>1</th>\n",
       "      <td>0</td>\n",
       "      <td>0</td>\n",
       "      <td>1</td>\n",
       "      <td>0</td>\n",
       "      <td>0</td>\n",
       "      <td>0</td>\n",
       "      <td>0</td>\n",
       "      <td>0</td>\n",
       "      <td>0</td>\n",
       "      <td>0</td>\n",
       "      <td>...</td>\n",
       "      <td>0</td>\n",
       "      <td>0</td>\n",
       "      <td>0</td>\n",
       "      <td>0</td>\n",
       "      <td>1</td>\n",
       "      <td>0</td>\n",
       "      <td>0</td>\n",
       "      <td>9.810959</td>\n",
       "      <td>2.0</td>\n",
       "      <td>-0.684400</td>\n",
       "    </tr>\n",
       "    <tr>\n",
       "      <th>2</th>\n",
       "      <td>0</td>\n",
       "      <td>0</td>\n",
       "      <td>0</td>\n",
       "      <td>0</td>\n",
       "      <td>0</td>\n",
       "      <td>0</td>\n",
       "      <td>0</td>\n",
       "      <td>1</td>\n",
       "      <td>0</td>\n",
       "      <td>0</td>\n",
       "      <td>...</td>\n",
       "      <td>0</td>\n",
       "      <td>0</td>\n",
       "      <td>0</td>\n",
       "      <td>0</td>\n",
       "      <td>0</td>\n",
       "      <td>1</td>\n",
       "      <td>0</td>\n",
       "      <td>2.010959</td>\n",
       "      <td>2.0</td>\n",
       "      <td>-0.579151</td>\n",
       "    </tr>\n",
       "    <tr>\n",
       "      <th>3</th>\n",
       "      <td>0</td>\n",
       "      <td>0</td>\n",
       "      <td>0</td>\n",
       "      <td>0</td>\n",
       "      <td>0</td>\n",
       "      <td>0</td>\n",
       "      <td>0</td>\n",
       "      <td>1</td>\n",
       "      <td>0</td>\n",
       "      <td>0</td>\n",
       "      <td>...</td>\n",
       "      <td>0</td>\n",
       "      <td>0</td>\n",
       "      <td>0</td>\n",
       "      <td>0</td>\n",
       "      <td>0</td>\n",
       "      <td>1</td>\n",
       "      <td>0</td>\n",
       "      <td>5.257534</td>\n",
       "      <td>2.0</td>\n",
       "      <td>-1.433525</td>\n",
       "    </tr>\n",
       "    <tr>\n",
       "      <th>4</th>\n",
       "      <td>0</td>\n",
       "      <td>0</td>\n",
       "      <td>0</td>\n",
       "      <td>0</td>\n",
       "      <td>0</td>\n",
       "      <td>0</td>\n",
       "      <td>0</td>\n",
       "      <td>1</td>\n",
       "      <td>0</td>\n",
       "      <td>0</td>\n",
       "      <td>...</td>\n",
       "      <td>0</td>\n",
       "      <td>0</td>\n",
       "      <td>0</td>\n",
       "      <td>0</td>\n",
       "      <td>0</td>\n",
       "      <td>1</td>\n",
       "      <td>0</td>\n",
       "      <td>4.517808</td>\n",
       "      <td>2.0</td>\n",
       "      <td>-0.416413</td>\n",
       "    </tr>\n",
       "  </tbody>\n",
       "</table>\n",
       "<p>5 rows × 37 columns</p>\n",
       "</div>"
      ],
      "text/plain": [
       "   nat_Bangladeshi  nat_Egyptian  nat_Filipino  nat_Indian  nat_Jordanian  \\\n",
       "0                0             0             0           0              0   \n",
       "1                0             0             1           0              0   \n",
       "2                0             0             0           0              0   \n",
       "3                0             0             0           0              0   \n",
       "4                0             0             0           0              0   \n",
       "\n",
       "   nat_Kenyan  nat_Moroccan  nat_Nepalese  nat_Pakistani  nat_Sri Lankan  ...  \\\n",
       "0           0             0             1              0               0  ...   \n",
       "1           0             0             0              0               0  ...   \n",
       "2           0             0             1              0               0  ...   \n",
       "3           0             0             1              0               0  ...   \n",
       "4           0             0             1              0               0  ...   \n",
       "\n",
       "   job_Technician  job_Technician - Air Cons  job_Van Salesman  \\\n",
       "0               0                          0                 0   \n",
       "1               0                          0                 0   \n",
       "2               0                          0                 0   \n",
       "3               0                          0                 0   \n",
       "4               0                          0                 0   \n",
       "\n",
       "   martial_status_Divorced  martial_status_Married  martial_status_Single  \\\n",
       "0                        0                       0                      1   \n",
       "1                        0                       1                      0   \n",
       "2                        0                       0                      1   \n",
       "3                        0                       0                      1   \n",
       "4                        0                       0                      1   \n",
       "\n",
       "   martial_status_Widow   service  qualification  join_age_scaled  \n",
       "0                     0  3.854795            2.0        -0.951945  \n",
       "1                     0  9.810959            2.0        -0.684400  \n",
       "2                     0  2.010959            2.0        -0.579151  \n",
       "3                     0  5.257534            2.0        -1.433525  \n",
       "4                     0  4.517808            2.0        -0.416413  \n",
       "\n",
       "[5 rows x 37 columns]"
      ]
     },
     "execution_count": 28,
     "metadata": {},
     "output_type": "execute_result"
    }
   ],
   "source": [
    "# reading the dataframe \n",
    "df_linear = pd.read_csv(\"exit_top10_jobs_linear.csv\", index_col=0)\n",
    "df_linear.head()"
   ]
  },
  {
   "cell_type": "code",
   "execution_count": 29,
   "metadata": {},
   "outputs": [],
   "source": [
    "# getting a copy of our dataframe\n",
    "df_linear_sm = df_linear.copy()"
   ]
  },
  {
   "cell_type": "code",
   "execution_count": 30,
   "metadata": {},
   "outputs": [],
   "source": [
    "# adding intercept value\n",
    "df_linear_sm.insert(0,\"intercept\",1)"
   ]
  },
  {
   "cell_type": "markdown",
   "metadata": {},
   "source": [
    "Before fitting the model we will remove one column of each variable from the dummy columns, so our matrix become full ranked"
   ]
  },
  {
   "cell_type": "markdown",
   "metadata": {},
   "source": [
    "we will remove:\n",
    "- Tunisian from nationalities\n",
    "- Home Appliances Service Center from departments\n",
    "- Helper from jobs\n",
    "- Widow from martial status"
   ]
  },
  {
   "cell_type": "code",
   "execution_count": 31,
   "metadata": {},
   "outputs": [],
   "source": [
    "# excluding the baseline columns\n",
    "baseline_columns = df_linear_sm.columns[(df_linear_sm.columns!=\"service\")& (df_linear_sm.columns!=\"nat_Tunisian\")& (df_linear_sm.columns!=\"dept_Home Appliances Service Center\")& (df_linear_sm.columns!=\"job_Helper\")& (df_linear_sm.columns!=\"martial_status_Widow\")]"
   ]
  },
  {
   "cell_type": "code",
   "execution_count": 32,
   "metadata": {},
   "outputs": [
    {
     "data": {
      "text/plain": [
       "Index(['intercept', 'nat_Bangladeshi', 'nat_Egyptian', 'nat_Filipino',\n",
       "       'nat_Indian', 'nat_Jordanian', 'nat_Kenyan', 'nat_Moroccan',\n",
       "       'nat_Nepalese', 'nat_Pakistani', 'nat_Sri Lankan',\n",
       "       'dept_Consumer Electronics & Home Appliances', 'dept_Consumer Products',\n",
       "       'dept_General Products', 'dept_HR & Administration', 'dept_Logistics',\n",
       "       'dept_Office Equipment & Business Solutions',\n",
       "       'dept_Office Equipment Service Center',\n",
       "       'dept_Office Furniture & Furnishing', 'job_Assistant Sales Executive',\n",
       "       'job_Driver', 'job_Merchandiser', 'job_Sales Executive',\n",
       "       'job_Senior Sales Executive', 'job_Senior Technician', 'job_Technician',\n",
       "       'job_Technician - Air Cons', 'job_Van Salesman',\n",
       "       'martial_status_Divorced', 'martial_status_Married',\n",
       "       'martial_status_Single', 'qualification', 'join_age_scaled'],\n",
       "      dtype='object')"
      ]
     },
     "execution_count": 32,
     "metadata": {},
     "output_type": "execute_result"
    }
   ],
   "source": [
    "baseline_columns"
   ]
  },
  {
   "cell_type": "code",
   "execution_count": 33,
   "metadata": {},
   "outputs": [],
   "source": [
    "# fitting linear model using stats_models\n",
    "lm = sm.OLS(df_linear_sm[\"service\"], df_linear_sm[baseline_columns]).fit()"
   ]
  },
  {
   "cell_type": "code",
   "execution_count": 34,
   "metadata": {},
   "outputs": [
    {
     "data": {
      "text/html": [
       "<table class=\"simpletable\">\n",
       "<caption>OLS Regression Results</caption>\n",
       "<tr>\n",
       "  <th>Dep. Variable:</th>         <td>service</td>     <th>  R-squared:         </th> <td>   0.384</td>\n",
       "</tr>\n",
       "<tr>\n",
       "  <th>Model:</th>                   <td>OLS</td>       <th>  Adj. R-squared:    </th> <td>   0.338</td>\n",
       "</tr>\n",
       "<tr>\n",
       "  <th>Method:</th>             <td>Least Squares</td>  <th>  F-statistic:       </th> <td>   8.349</td>\n",
       "</tr>\n",
       "<tr>\n",
       "  <th>Date:</th>             <td>Sat, 29 Feb 2020</td> <th>  Prob (F-statistic):</th> <td>6.39e-29</td>\n",
       "</tr>\n",
       "<tr>\n",
       "  <th>Time:</th>                 <td>08:38:29</td>     <th>  Log-Likelihood:    </th> <td> -1297.0</td>\n",
       "</tr>\n",
       "<tr>\n",
       "  <th>No. Observations:</th>      <td>   462</td>      <th>  AIC:               </th> <td>   2660.</td>\n",
       "</tr>\n",
       "<tr>\n",
       "  <th>Df Residuals:</th>          <td>   429</td>      <th>  BIC:               </th> <td>   2796.</td>\n",
       "</tr>\n",
       "<tr>\n",
       "  <th>Df Model:</th>              <td>    32</td>      <th>                     </th>     <td> </td>   \n",
       "</tr>\n",
       "<tr>\n",
       "  <th>Covariance Type:</th>      <td>nonrobust</td>    <th>                     </th>     <td> </td>   \n",
       "</tr>\n",
       "</table>\n",
       "<table class=\"simpletable\">\n",
       "<tr>\n",
       "                       <td></td>                          <th>coef</th>     <th>std err</th>      <th>t</th>      <th>P>|t|</th>  <th>[0.025</th>    <th>0.975]</th>  \n",
       "</tr>\n",
       "<tr>\n",
       "  <th>intercept</th>                                   <td>    9.1603</td> <td>    5.342</td> <td>    1.715</td> <td> 0.087</td> <td>   -1.339</td> <td>   19.660</td>\n",
       "</tr>\n",
       "<tr>\n",
       "  <th>nat_Bangladeshi</th>                             <td>   16.6381</td> <td>    5.314</td> <td>    3.131</td> <td> 0.002</td> <td>    6.194</td> <td>   27.082</td>\n",
       "</tr>\n",
       "<tr>\n",
       "  <th>nat_Egyptian</th>                                <td>   -6.2868</td> <td>    3.524</td> <td>   -1.784</td> <td> 0.075</td> <td>  -13.213</td> <td>    0.640</td>\n",
       "</tr>\n",
       "<tr>\n",
       "  <th>nat_Filipino</th>                                <td>    0.8418</td> <td>    3.103</td> <td>    0.271</td> <td> 0.786</td> <td>   -5.257</td> <td>    6.940</td>\n",
       "</tr>\n",
       "<tr>\n",
       "  <th>nat_Indian</th>                                  <td>    1.2079</td> <td>    3.102</td> <td>    0.389</td> <td> 0.697</td> <td>   -4.890</td> <td>    7.305</td>\n",
       "</tr>\n",
       "<tr>\n",
       "  <th>nat_Jordanian</th>                               <td>   -3.9240</td> <td>    5.375</td> <td>   -0.730</td> <td> 0.466</td> <td>  -14.488</td> <td>    6.640</td>\n",
       "</tr>\n",
       "<tr>\n",
       "  <th>nat_Kenyan</th>                                  <td>   -2.7703</td> <td>    3.383</td> <td>   -0.819</td> <td> 0.413</td> <td>   -9.419</td> <td>    3.878</td>\n",
       "</tr>\n",
       "<tr>\n",
       "  <th>nat_Moroccan</th>                                <td>   -5.1146</td> <td>    5.320</td> <td>   -0.961</td> <td> 0.337</td> <td>  -15.570</td> <td>    5.341</td>\n",
       "</tr>\n",
       "<tr>\n",
       "  <th>nat_Nepalese</th>                                <td>   -1.5326</td> <td>    3.086</td> <td>   -0.497</td> <td> 0.620</td> <td>   -7.599</td> <td>    4.534</td>\n",
       "</tr>\n",
       "<tr>\n",
       "  <th>nat_Pakistani</th>                               <td>   11.4983</td> <td>    4.368</td> <td>    2.633</td> <td> 0.009</td> <td>    2.914</td> <td>   20.083</td>\n",
       "</tr>\n",
       "<tr>\n",
       "  <th>nat_Sri Lankan</th>                              <td>   -2.3288</td> <td>    3.095</td> <td>   -0.752</td> <td> 0.452</td> <td>   -8.413</td> <td>    3.755</td>\n",
       "</tr>\n",
       "<tr>\n",
       "  <th>dept_Consumer Electronics & Home Appliances</th> <td>   -0.4383</td> <td>    2.092</td> <td>   -0.209</td> <td> 0.834</td> <td>   -4.551</td> <td>    3.674</td>\n",
       "</tr>\n",
       "<tr>\n",
       "  <th>dept_Consumer Products</th>                      <td>    0.4829</td> <td>    2.061</td> <td>    0.234</td> <td> 0.815</td> <td>   -3.569</td> <td>    4.535</td>\n",
       "</tr>\n",
       "<tr>\n",
       "  <th>dept_General Products</th>                       <td>    2.3295</td> <td>    2.146</td> <td>    1.085</td> <td> 0.278</td> <td>   -1.889</td> <td>    6.548</td>\n",
       "</tr>\n",
       "<tr>\n",
       "  <th>dept_HR & Administration</th>                    <td>    7.7496</td> <td>    2.226</td> <td>    3.481</td> <td> 0.001</td> <td>    3.374</td> <td>   12.125</td>\n",
       "</tr>\n",
       "<tr>\n",
       "  <th>dept_Logistics</th>                              <td>   -0.2327</td> <td>    1.206</td> <td>   -0.193</td> <td> 0.847</td> <td>   -2.602</td> <td>    2.137</td>\n",
       "</tr>\n",
       "<tr>\n",
       "  <th>dept_Office Equipment & Business Solutions</th>  <td>   -1.3627</td> <td>    2.507</td> <td>   -0.544</td> <td> 0.587</td> <td>   -6.290</td> <td>    3.565</td>\n",
       "</tr>\n",
       "<tr>\n",
       "  <th>dept_Office Equipment Service Center</th>        <td>   -3.7300</td> <td>    1.220</td> <td>   -3.056</td> <td> 0.002</td> <td>   -6.129</td> <td>   -1.331</td>\n",
       "</tr>\n",
       "<tr>\n",
       "  <th>dept_Office Furniture & Furnishing</th>          <td>    5.4311</td> <td>    2.254</td> <td>    2.409</td> <td> 0.016</td> <td>    1.000</td> <td>    9.862</td>\n",
       "</tr>\n",
       "<tr>\n",
       "  <th>job_Assistant Sales Executive</th>               <td>   -1.3368</td> <td>    2.163</td> <td>   -0.618</td> <td> 0.537</td> <td>   -5.589</td> <td>    2.915</td>\n",
       "</tr>\n",
       "<tr>\n",
       "  <th>job_Driver</th>                                  <td>    1.0613</td> <td>    0.964</td> <td>    1.100</td> <td> 0.272</td> <td>   -0.834</td> <td>    2.957</td>\n",
       "</tr>\n",
       "<tr>\n",
       "  <th>job_Merchandiser</th>                            <td>   -1.3944</td> <td>    1.872</td> <td>   -0.745</td> <td> 0.457</td> <td>   -5.074</td> <td>    2.285</td>\n",
       "</tr>\n",
       "<tr>\n",
       "  <th>job_Sales Executive</th>                         <td>   -0.3127</td> <td>    1.959</td> <td>   -0.160</td> <td> 0.873</td> <td>   -4.163</td> <td>    3.538</td>\n",
       "</tr>\n",
       "<tr>\n",
       "  <th>job_Senior Sales Executive</th>                  <td>    3.4567</td> <td>    2.133</td> <td>    1.621</td> <td> 0.106</td> <td>   -0.736</td> <td>    7.649</td>\n",
       "</tr>\n",
       "<tr>\n",
       "  <th>job_Senior Technician</th>                       <td>    9.3220</td> <td>    1.716</td> <td>    5.432</td> <td> 0.000</td> <td>    5.949</td> <td>   12.695</td>\n",
       "</tr>\n",
       "<tr>\n",
       "  <th>job_Technician</th>                              <td>    2.6157</td> <td>    1.425</td> <td>    1.836</td> <td> 0.067</td> <td>   -0.185</td> <td>    5.416</td>\n",
       "</tr>\n",
       "<tr>\n",
       "  <th>job_Technician - Air Cons</th>                   <td>   -0.7043</td> <td>    1.682</td> <td>   -0.419</td> <td> 0.676</td> <td>   -4.011</td> <td>    2.603</td>\n",
       "</tr>\n",
       "<tr>\n",
       "  <th>job_Van Salesman</th>                            <td>   -3.2303</td> <td>    2.084</td> <td>   -1.550</td> <td> 0.122</td> <td>   -7.326</td> <td>    0.865</td>\n",
       "</tr>\n",
       "<tr>\n",
       "  <th>martial_status_Divorced</th>                     <td>   15.9065</td> <td>    5.996</td> <td>    2.653</td> <td> 0.008</td> <td>    4.122</td> <td>   27.691</td>\n",
       "</tr>\n",
       "<tr>\n",
       "  <th>martial_status_Married</th>                      <td>    0.3983</td> <td>    4.188</td> <td>    0.095</td> <td> 0.924</td> <td>   -7.834</td> <td>    8.631</td>\n",
       "</tr>\n",
       "<tr>\n",
       "  <th>martial_status_Single</th>                       <td>   -1.6939</td> <td>    4.187</td> <td>   -0.405</td> <td> 0.686</td> <td>   -9.923</td> <td>    6.536</td>\n",
       "</tr>\n",
       "<tr>\n",
       "  <th>qualification</th>                               <td>   -1.2562</td> <td>    0.322</td> <td>   -3.903</td> <td> 0.000</td> <td>   -1.889</td> <td>   -0.624</td>\n",
       "</tr>\n",
       "<tr>\n",
       "  <th>join_age_scaled</th>                             <td>   -1.1740</td> <td>    0.267</td> <td>   -4.401</td> <td> 0.000</td> <td>   -1.698</td> <td>   -0.650</td>\n",
       "</tr>\n",
       "</table>\n",
       "<table class=\"simpletable\">\n",
       "<tr>\n",
       "  <th>Omnibus:</th>       <td>127.121</td> <th>  Durbin-Watson:     </th> <td>   1.768</td>\n",
       "</tr>\n",
       "<tr>\n",
       "  <th>Prob(Omnibus):</th> <td> 0.000</td>  <th>  Jarque-Bera (JB):  </th> <td> 434.124</td>\n",
       "</tr>\n",
       "<tr>\n",
       "  <th>Skew:</th>          <td> 1.236</td>  <th>  Prob(JB):          </th> <td>5.38e-95</td>\n",
       "</tr>\n",
       "<tr>\n",
       "  <th>Kurtosis:</th>      <td> 7.054</td>  <th>  Cond. No.          </th> <td>    157.</td>\n",
       "</tr>\n",
       "</table><br/><br/>Warnings:<br/>[1] Standard Errors assume that the covariance matrix of the errors is correctly specified."
      ],
      "text/plain": [
       "<class 'statsmodels.iolib.summary.Summary'>\n",
       "\"\"\"\n",
       "                            OLS Regression Results                            \n",
       "==============================================================================\n",
       "Dep. Variable:                service   R-squared:                       0.384\n",
       "Model:                            OLS   Adj. R-squared:                  0.338\n",
       "Method:                 Least Squares   F-statistic:                     8.349\n",
       "Date:                Sat, 29 Feb 2020   Prob (F-statistic):           6.39e-29\n",
       "Time:                        08:38:29   Log-Likelihood:                -1297.0\n",
       "No. Observations:                 462   AIC:                             2660.\n",
       "Df Residuals:                     429   BIC:                             2796.\n",
       "Df Model:                          32                                         \n",
       "Covariance Type:            nonrobust                                         \n",
       "===============================================================================================================\n",
       "                                                  coef    std err          t      P>|t|      [0.025      0.975]\n",
       "---------------------------------------------------------------------------------------------------------------\n",
       "intercept                                       9.1603      5.342      1.715      0.087      -1.339      19.660\n",
       "nat_Bangladeshi                                16.6381      5.314      3.131      0.002       6.194      27.082\n",
       "nat_Egyptian                                   -6.2868      3.524     -1.784      0.075     -13.213       0.640\n",
       "nat_Filipino                                    0.8418      3.103      0.271      0.786      -5.257       6.940\n",
       "nat_Indian                                      1.2079      3.102      0.389      0.697      -4.890       7.305\n",
       "nat_Jordanian                                  -3.9240      5.375     -0.730      0.466     -14.488       6.640\n",
       "nat_Kenyan                                     -2.7703      3.383     -0.819      0.413      -9.419       3.878\n",
       "nat_Moroccan                                   -5.1146      5.320     -0.961      0.337     -15.570       5.341\n",
       "nat_Nepalese                                   -1.5326      3.086     -0.497      0.620      -7.599       4.534\n",
       "nat_Pakistani                                  11.4983      4.368      2.633      0.009       2.914      20.083\n",
       "nat_Sri Lankan                                 -2.3288      3.095     -0.752      0.452      -8.413       3.755\n",
       "dept_Consumer Electronics & Home Appliances    -0.4383      2.092     -0.209      0.834      -4.551       3.674\n",
       "dept_Consumer Products                          0.4829      2.061      0.234      0.815      -3.569       4.535\n",
       "dept_General Products                           2.3295      2.146      1.085      0.278      -1.889       6.548\n",
       "dept_HR & Administration                        7.7496      2.226      3.481      0.001       3.374      12.125\n",
       "dept_Logistics                                 -0.2327      1.206     -0.193      0.847      -2.602       2.137\n",
       "dept_Office Equipment & Business Solutions     -1.3627      2.507     -0.544      0.587      -6.290       3.565\n",
       "dept_Office Equipment Service Center           -3.7300      1.220     -3.056      0.002      -6.129      -1.331\n",
       "dept_Office Furniture & Furnishing              5.4311      2.254      2.409      0.016       1.000       9.862\n",
       "job_Assistant Sales Executive                  -1.3368      2.163     -0.618      0.537      -5.589       2.915\n",
       "job_Driver                                      1.0613      0.964      1.100      0.272      -0.834       2.957\n",
       "job_Merchandiser                               -1.3944      1.872     -0.745      0.457      -5.074       2.285\n",
       "job_Sales Executive                            -0.3127      1.959     -0.160      0.873      -4.163       3.538\n",
       "job_Senior Sales Executive                      3.4567      2.133      1.621      0.106      -0.736       7.649\n",
       "job_Senior Technician                           9.3220      1.716      5.432      0.000       5.949      12.695\n",
       "job_Technician                                  2.6157      1.425      1.836      0.067      -0.185       5.416\n",
       "job_Technician - Air Cons                      -0.7043      1.682     -0.419      0.676      -4.011       2.603\n",
       "job_Van Salesman                               -3.2303      2.084     -1.550      0.122      -7.326       0.865\n",
       "martial_status_Divorced                        15.9065      5.996      2.653      0.008       4.122      27.691\n",
       "martial_status_Married                          0.3983      4.188      0.095      0.924      -7.834       8.631\n",
       "martial_status_Single                          -1.6939      4.187     -0.405      0.686      -9.923       6.536\n",
       "qualification                                  -1.2562      0.322     -3.903      0.000      -1.889      -0.624\n",
       "join_age_scaled                                -1.1740      0.267     -4.401      0.000      -1.698      -0.650\n",
       "==============================================================================\n",
       "Omnibus:                      127.121   Durbin-Watson:                   1.768\n",
       "Prob(Omnibus):                  0.000   Jarque-Bera (JB):              434.124\n",
       "Skew:                           1.236   Prob(JB):                     5.38e-95\n",
       "Kurtosis:                       7.054   Cond. No.                         157.\n",
       "==============================================================================\n",
       "\n",
       "Warnings:\n",
       "[1] Standard Errors assume that the covariance matrix of the errors is correctly specified.\n",
       "\"\"\""
      ]
     },
     "execution_count": 34,
     "metadata": {},
     "output_type": "execute_result"
    }
   ],
   "source": [
    "# printing the model report\n",
    "lm.summary()"
   ]
  },
  {
   "cell_type": "markdown",
   "metadata": {},
   "source": [
    "**From the summary we notice that R squared is really low, however we have many values that represent their P-value indicates that they are statistically significant.**\n",
    "**Another thing worth mentioning here that the baseline is around 9, which is quite high service**"
   ]
  },
  {
   "cell_type": "markdown",
   "metadata": {},
   "source": [
    "### Based on the previous summary we can change the labeling and use categorical codes instead of dummy to add a complexity to our model after removing the outliers"
   ]
  },
  {
   "cell_type": "code",
   "execution_count": 35,
   "metadata": {},
   "outputs": [
    {
     "data": {
      "text/html": [
       "<div>\n",
       "<style scoped>\n",
       "    .dataframe tbody tr th:only-of-type {\n",
       "        vertical-align: middle;\n",
       "    }\n",
       "\n",
       "    .dataframe tbody tr th {\n",
       "        vertical-align: top;\n",
       "    }\n",
       "\n",
       "    .dataframe thead th {\n",
       "        text-align: right;\n",
       "    }\n",
       "</style>\n",
       "<table border=\"1\" class=\"dataframe\">\n",
       "  <thead>\n",
       "    <tr style=\"text-align: right;\">\n",
       "      <th></th>\n",
       "      <th>leave</th>\n",
       "      <th>nat</th>\n",
       "      <th>dept</th>\n",
       "      <th>job</th>\n",
       "      <th>join</th>\n",
       "      <th>martial_status</th>\n",
       "      <th>birth_date</th>\n",
       "      <th>qualification</th>\n",
       "      <th>service</th>\n",
       "      <th>join_age</th>\n",
       "    </tr>\n",
       "  </thead>\n",
       "  <tbody>\n",
       "    <tr>\n",
       "      <th>0</th>\n",
       "      <td>2012-03-10</td>\n",
       "      <td>Nepalese</td>\n",
       "      <td>Consumer Products</td>\n",
       "      <td>Merchandiser</td>\n",
       "      <td>2008-05-03</td>\n",
       "      <td>Single</td>\n",
       "      <td>1986-01-29</td>\n",
       "      <td>NaN</td>\n",
       "      <td>3.854795</td>\n",
       "      <td>22.273973</td>\n",
       "    </tr>\n",
       "    <tr>\n",
       "      <th>1</th>\n",
       "      <td>2012-05-09</td>\n",
       "      <td>Filipino</td>\n",
       "      <td>Consumer Products</td>\n",
       "      <td>Assistant Sales Executive</td>\n",
       "      <td>2002-07-20</td>\n",
       "      <td>Married</td>\n",
       "      <td>1978-08-20</td>\n",
       "      <td>NaN</td>\n",
       "      <td>9.810959</td>\n",
       "      <td>23.931507</td>\n",
       "    </tr>\n",
       "    <tr>\n",
       "      <th>2</th>\n",
       "      <td>2012-05-11</td>\n",
       "      <td>Nepalese</td>\n",
       "      <td>Consumer Products</td>\n",
       "      <td>Merchandiser</td>\n",
       "      <td>2010-05-08</td>\n",
       "      <td>Single</td>\n",
       "      <td>1985-10-13</td>\n",
       "      <td>NaN</td>\n",
       "      <td>2.010959</td>\n",
       "      <td>24.583562</td>\n",
       "    </tr>\n",
       "    <tr>\n",
       "      <th>3</th>\n",
       "      <td>2012-06-12</td>\n",
       "      <td>Nepalese</td>\n",
       "      <td>Home Appliances Service Center</td>\n",
       "      <td>Helper</td>\n",
       "      <td>2007-03-12</td>\n",
       "      <td>Single</td>\n",
       "      <td>1987-12-01</td>\n",
       "      <td>NaN</td>\n",
       "      <td>5.257534</td>\n",
       "      <td>19.290411</td>\n",
       "    </tr>\n",
       "    <tr>\n",
       "      <th>4</th>\n",
       "      <td>2012-07-10</td>\n",
       "      <td>Nepalese</td>\n",
       "      <td>Consumer Electronics &amp; Home Appliances</td>\n",
       "      <td>Merchandiser</td>\n",
       "      <td>2008-01-04</td>\n",
       "      <td>Single</td>\n",
       "      <td>1982-06-08</td>\n",
       "      <td>NaN</td>\n",
       "      <td>4.517808</td>\n",
       "      <td>25.591781</td>\n",
       "    </tr>\n",
       "  </tbody>\n",
       "</table>\n",
       "</div>"
      ],
      "text/plain": [
       "        leave       nat                                    dept  \\\n",
       "0  2012-03-10  Nepalese                       Consumer Products   \n",
       "1  2012-05-09  Filipino                       Consumer Products   \n",
       "2  2012-05-11  Nepalese                       Consumer Products   \n",
       "3  2012-06-12  Nepalese          Home Appliances Service Center   \n",
       "4  2012-07-10  Nepalese  Consumer Electronics & Home Appliances   \n",
       "\n",
       "                         job        join martial_status  birth_date  \\\n",
       "0               Merchandiser  2008-05-03         Single  1986-01-29   \n",
       "1  Assistant Sales Executive  2002-07-20        Married  1978-08-20   \n",
       "2               Merchandiser  2010-05-08         Single  1985-10-13   \n",
       "3                     Helper  2007-03-12         Single  1987-12-01   \n",
       "4               Merchandiser  2008-01-04         Single  1982-06-08   \n",
       "\n",
       "  qualification   service   join_age  \n",
       "0           NaN  3.854795  22.273973  \n",
       "1           NaN  9.810959  23.931507  \n",
       "2           NaN  2.010959  24.583562  \n",
       "3           NaN  5.257534  19.290411  \n",
       "4           NaN  4.517808  25.591781  "
      ]
     },
     "execution_count": 35,
     "metadata": {},
     "output_type": "execute_result"
    }
   ],
   "source": [
    "# creating a dataframe to test the dataset without manipulation\n",
    "df_linear_2 = df_top_10_jobs.copy()\n",
    "df_linear_2.head()"
   ]
  },
  {
   "cell_type": "code",
   "execution_count": 36,
   "metadata": {},
   "outputs": [
    {
     "data": {
      "text/plain": [
       "{1: 'Primary School',\n",
       " 2: 'High School',\n",
       " 3: 'Diploma',\n",
       " 4: 'Bachelors',\n",
       " 5: 'Masters'}"
      ]
     },
     "execution_count": 36,
     "metadata": {},
     "output_type": "execute_result"
    }
   ],
   "source": [
    "# reversing the qualification dictionary to replace their numbers with the right values\n",
    "qual_inverted_dict = dict(map(reversed, qual_dict.items()))\n",
    "qual_inverted_dict"
   ]
  },
  {
   "cell_type": "code",
   "execution_count": 37,
   "metadata": {},
   "outputs": [],
   "source": [
    "# replacing the missing values with the predicted ones\n",
    "df_linear_2.loc[df_linear_2[\"qualification\"].isna()==True,[\"qualification\"]] = predicted_qual"
   ]
  },
  {
   "cell_type": "code",
   "execution_count": 38,
   "metadata": {},
   "outputs": [],
   "source": [
    "# replacing the numerical values with their categories\n",
    "df_linear_2[\"qualification\"] = df_linear_2[\"qualification\"].replace(qual_inverted_dict)"
   ]
  },
  {
   "cell_type": "code",
   "execution_count": 39,
   "metadata": {},
   "outputs": [
    {
     "data": {
      "text/plain": [
       "High School       364\n",
       "Bachelors          55\n",
       "Diploma            31\n",
       "Masters             7\n",
       "Primary School      5\n",
       "Name: qualification, dtype: int64"
      ]
     },
     "execution_count": 39,
     "metadata": {},
     "output_type": "execute_result"
    }
   ],
   "source": [
    "# checking the replacments\n",
    "df_linear_2.qualification.value_counts()"
   ]
  },
  {
   "cell_type": "code",
   "execution_count": 40,
   "metadata": {},
   "outputs": [],
   "source": [
    "# dropping unncessary columns\n",
    "df_linear_2.drop([\"leave\",\"birth_date\",\"join\"], axis=1, inplace=True)"
   ]
  },
  {
   "cell_type": "code",
   "execution_count": 41,
   "metadata": {},
   "outputs": [
    {
     "data": {
      "text/plain": [
       "<matplotlib.axes._subplots.AxesSubplot at 0x20d11d17cf8>"
      ]
     },
     "execution_count": 41,
     "metadata": {},
     "output_type": "execute_result"
    },
    {
     "data": {
      "image/png": "[encoded data removed]",
      "text/plain": [
       "<Figure size 432x288 with 1 Axes>"
      ]
     },
     "metadata": {
      "needs_background": "light"
     },
     "output_type": "display_data"
    }
   ],
   "source": [
    "# showing histogram of service period\n",
    "df_linear_2[\"service\"].hist()"
   ]
  },
  {
   "cell_type": "markdown",
   "metadata": {},
   "source": [
    "the number of employees which served more than ten years is low compared to employees who served less, so we can limit our values with 10 years as maximum of service period"
   ]
  },
  {
   "cell_type": "code",
   "execution_count": 42,
   "metadata": {},
   "outputs": [],
   "source": [
    "# excluding service period with 10 years or more\n",
    "df_linear_2 = df_linear_2[df_linear_2[\"service\"]<=10]"
   ]
  },
  {
   "cell_type": "code",
   "execution_count": 43,
   "metadata": {},
   "outputs": [
    {
     "data": {
      "text/plain": [
       "<matplotlib.axes._subplots.AxesSubplot at 0x20d11d6c3c8>"
      ]
     },
     "execution_count": 43,
     "metadata": {},
     "output_type": "execute_result"
    },
    {
     "data": {
      "image/png": "[encoded data removed]",
      "text/plain": [
       "<Figure size 432x288 with 1 Axes>"
      ]
     },
     "metadata": {
      "needs_background": "light"
     },
     "output_type": "display_data"
    }
   ],
   "source": [
    "# service after excluding 10 years or more values\n",
    "df_linear_2[\"service\"].hist()"
   ]
  },
  {
   "cell_type": "code",
   "execution_count": 44,
   "metadata": {},
   "outputs": [
    {
     "name": "stdout",
     "output_type": "stream",
     "text": [
      "<class 'pandas.core.frame.DataFrame'>\n",
      "Int64Index: 413 entries, 0 to 859\n",
      "Data columns (total 7 columns):\n",
      " #   Column          Non-Null Count  Dtype  \n",
      "---  ------          --------------  -----  \n",
      " 0   nat             413 non-null    object \n",
      " 1   dept            413 non-null    object \n",
      " 2   job             413 non-null    object \n",
      " 3   martial_status  413 non-null    object \n",
      " 4   qualification   413 non-null    object \n",
      " 5   service         413 non-null    float64\n",
      " 6   join_age        413 non-null    float64\n",
      "dtypes: float64(2), object(5)\n",
      "memory usage: 25.8+ KB\n"
     ]
    }
   ],
   "source": [
    "# checking the dataset after the changes\n",
    "df_linear_2.info()"
   ]
  },
  {
   "cell_type": "markdown",
   "metadata": {},
   "source": [
    "we will convert string columns to categories to get their codes"
   ]
  },
  {
   "cell_type": "code",
   "execution_count": 45,
   "metadata": {},
   "outputs": [],
   "source": [
    "# converting categorical columns from string to CATEGORY data type \n",
    "for i in df_linear_2.columns[(df_linear_2.columns!=\"service\")&(df_linear_2.columns!=\"join_age\")]: \n",
    "    df_linear_2[i] = df_linear_2[i].astype('category')"
   ]
  },
  {
   "cell_type": "code",
   "execution_count": 46,
   "metadata": {},
   "outputs": [
    {
     "name": "stdout",
     "output_type": "stream",
     "text": [
      "<class 'pandas.core.frame.DataFrame'>\n",
      "Int64Index: 413 entries, 0 to 859\n",
      "Data columns (total 7 columns):\n",
      " #   Column          Non-Null Count  Dtype   \n",
      "---  ------          --------------  -----   \n",
      " 0   nat             413 non-null    category\n",
      " 1   dept            413 non-null    category\n",
      " 2   job             413 non-null    category\n",
      " 3   martial_status  413 non-null    category\n",
      " 4   qualification   413 non-null    category\n",
      " 5   service         413 non-null    float64 \n",
      " 6   join_age        413 non-null    float64 \n",
      "dtypes: category(5), float64(2)\n",
      "memory usage: 13.1 KB\n"
     ]
    }
   ],
   "source": [
    "# checking the dataset after the changes\n",
    "df_linear_2.info()"
   ]
  },
  {
   "cell_type": "code",
   "execution_count": 47,
   "metadata": {},
   "outputs": [
    {
     "data": {
      "text/html": [
       "<div>\n",
       "<style scoped>\n",
       "    .dataframe tbody tr th:only-of-type {\n",
       "        vertical-align: middle;\n",
       "    }\n",
       "\n",
       "    .dataframe tbody tr th {\n",
       "        vertical-align: top;\n",
       "    }\n",
       "\n",
       "    .dataframe thead th {\n",
       "        text-align: right;\n",
       "    }\n",
       "</style>\n",
       "<table border=\"1\" class=\"dataframe\">\n",
       "  <thead>\n",
       "    <tr style=\"text-align: right;\">\n",
       "      <th></th>\n",
       "      <th>nat</th>\n",
       "      <th>dept</th>\n",
       "      <th>job</th>\n",
       "      <th>martial_status</th>\n",
       "      <th>qualification</th>\n",
       "    </tr>\n",
       "  </thead>\n",
       "  <tbody>\n",
       "    <tr>\n",
       "      <th>0</th>\n",
       "      <td>6</td>\n",
       "      <td>1</td>\n",
       "      <td>3</td>\n",
       "      <td>1</td>\n",
       "      <td>2</td>\n",
       "    </tr>\n",
       "    <tr>\n",
       "      <th>1</th>\n",
       "      <td>1</td>\n",
       "      <td>1</td>\n",
       "      <td>0</td>\n",
       "      <td>0</td>\n",
       "      <td>2</td>\n",
       "    </tr>\n",
       "    <tr>\n",
       "      <th>2</th>\n",
       "      <td>6</td>\n",
       "      <td>1</td>\n",
       "      <td>3</td>\n",
       "      <td>1</td>\n",
       "      <td>2</td>\n",
       "    </tr>\n",
       "    <tr>\n",
       "      <th>3</th>\n",
       "      <td>6</td>\n",
       "      <td>4</td>\n",
       "      <td>2</td>\n",
       "      <td>1</td>\n",
       "      <td>2</td>\n",
       "    </tr>\n",
       "    <tr>\n",
       "      <th>4</th>\n",
       "      <td>6</td>\n",
       "      <td>0</td>\n",
       "      <td>3</td>\n",
       "      <td>1</td>\n",
       "      <td>2</td>\n",
       "    </tr>\n",
       "  </tbody>\n",
       "</table>\n",
       "</div>"
      ],
      "text/plain": [
       "   nat  dept  job  martial_status  qualification\n",
       "0    6     1    3               1              2\n",
       "1    1     1    0               0              2\n",
       "2    6     1    3               1              2\n",
       "3    6     4    2               1              2\n",
       "4    6     0    3               1              2"
      ]
     },
     "execution_count": 47,
     "metadata": {},
     "output_type": "execute_result"
    }
   ],
   "source": [
    "# creating an empty dataframe and saving the codes of the categories\n",
    "df_linear_3 = pd.DataFrame()\n",
    "\n",
    "# looping through columns to convert the categories to a numerical data frame \n",
    "for i in df_linear_2.columns[:5]:\n",
    "    df_linear_3[i] = df_linear_2[i].cat.codes\n",
    "    \n",
    "# checking the generated dataframe\n",
    "df_linear_3.head()"
   ]
  },
  {
   "cell_type": "code",
   "execution_count": 48,
   "metadata": {},
   "outputs": [],
   "source": [
    "# joining the joining age and service years\n",
    "df_linear_3 = df_linear_3.join(df_linear_2[[\"join_age\",\"service\"]])"
   ]
  },
  {
   "cell_type": "code",
   "execution_count": 49,
   "metadata": {},
   "outputs": [
    {
     "data": {
      "text/html": [
       "<div>\n",
       "<style scoped>\n",
       "    .dataframe tbody tr th:only-of-type {\n",
       "        vertical-align: middle;\n",
       "    }\n",
       "\n",
       "    .dataframe tbody tr th {\n",
       "        vertical-align: top;\n",
       "    }\n",
       "\n",
       "    .dataframe thead th {\n",
       "        text-align: right;\n",
       "    }\n",
       "</style>\n",
       "<table border=\"1\" class=\"dataframe\">\n",
       "  <thead>\n",
       "    <tr style=\"text-align: right;\">\n",
       "      <th></th>\n",
       "      <th>nat</th>\n",
       "      <th>dept</th>\n",
       "      <th>job</th>\n",
       "      <th>martial_status</th>\n",
       "      <th>qualification</th>\n",
       "      <th>join_age</th>\n",
       "      <th>service</th>\n",
       "    </tr>\n",
       "  </thead>\n",
       "  <tbody>\n",
       "    <tr>\n",
       "      <th>0</th>\n",
       "      <td>6</td>\n",
       "      <td>1</td>\n",
       "      <td>3</td>\n",
       "      <td>1</td>\n",
       "      <td>2</td>\n",
       "      <td>22.273973</td>\n",
       "      <td>3.854795</td>\n",
       "    </tr>\n",
       "    <tr>\n",
       "      <th>1</th>\n",
       "      <td>1</td>\n",
       "      <td>1</td>\n",
       "      <td>0</td>\n",
       "      <td>0</td>\n",
       "      <td>2</td>\n",
       "      <td>23.931507</td>\n",
       "      <td>9.810959</td>\n",
       "    </tr>\n",
       "    <tr>\n",
       "      <th>2</th>\n",
       "      <td>6</td>\n",
       "      <td>1</td>\n",
       "      <td>3</td>\n",
       "      <td>1</td>\n",
       "      <td>2</td>\n",
       "      <td>24.583562</td>\n",
       "      <td>2.010959</td>\n",
       "    </tr>\n",
       "    <tr>\n",
       "      <th>3</th>\n",
       "      <td>6</td>\n",
       "      <td>4</td>\n",
       "      <td>2</td>\n",
       "      <td>1</td>\n",
       "      <td>2</td>\n",
       "      <td>19.290411</td>\n",
       "      <td>5.257534</td>\n",
       "    </tr>\n",
       "    <tr>\n",
       "      <th>4</th>\n",
       "      <td>6</td>\n",
       "      <td>0</td>\n",
       "      <td>3</td>\n",
       "      <td>1</td>\n",
       "      <td>2</td>\n",
       "      <td>25.591781</td>\n",
       "      <td>4.517808</td>\n",
       "    </tr>\n",
       "  </tbody>\n",
       "</table>\n",
       "</div>"
      ],
      "text/plain": [
       "   nat  dept  job  martial_status  qualification   join_age   service\n",
       "0    6     1    3               1              2  22.273973  3.854795\n",
       "1    1     1    0               0              2  23.931507  9.810959\n",
       "2    6     1    3               1              2  24.583562  2.010959\n",
       "3    6     4    2               1              2  19.290411  5.257534\n",
       "4    6     0    3               1              2  25.591781  4.517808"
      ]
     },
     "execution_count": 49,
     "metadata": {},
     "output_type": "execute_result"
    }
   ],
   "source": [
    "# checking the changes\n",
    "df_linear_3.head()"
   ]
  },
  {
   "cell_type": "code",
   "execution_count": 50,
   "metadata": {},
   "outputs": [],
   "source": [
    "# adding intercept column\n",
    "df_linear_3.insert(0,\"intercept\",1)"
   ]
  },
  {
   "cell_type": "code",
   "execution_count": 51,
   "metadata": {},
   "outputs": [],
   "source": [
    "# fitting the linear regression model\n",
    "lm2 = sm.OLS(df_linear_3[\"service\"], df_linear_3[df_linear_3.columns[df_linear_3.columns!=\"service\"]]).fit()"
   ]
  },
  {
   "cell_type": "code",
   "execution_count": 52,
   "metadata": {},
   "outputs": [
    {
     "data": {
      "text/html": [
       "<table class=\"simpletable\">\n",
       "<caption>OLS Regression Results</caption>\n",
       "<tr>\n",
       "  <th>Dep. Variable:</th>         <td>service</td>     <th>  R-squared:         </th> <td>   0.060</td>\n",
       "</tr>\n",
       "<tr>\n",
       "  <th>Model:</th>                   <td>OLS</td>       <th>  Adj. R-squared:    </th> <td>   0.047</td>\n",
       "</tr>\n",
       "<tr>\n",
       "  <th>Method:</th>             <td>Least Squares</td>  <th>  F-statistic:       </th> <td>   4.356</td>\n",
       "</tr>\n",
       "<tr>\n",
       "  <th>Date:</th>             <td>Sat, 29 Feb 2020</td> <th>  Prob (F-statistic):</th> <td>0.000281</td>\n",
       "</tr>\n",
       "<tr>\n",
       "  <th>Time:</th>                 <td>08:39:52</td>     <th>  Log-Likelihood:    </th> <td> -908.69</td>\n",
       "</tr>\n",
       "<tr>\n",
       "  <th>No. Observations:</th>      <td>   413</td>      <th>  AIC:               </th> <td>   1831.</td>\n",
       "</tr>\n",
       "<tr>\n",
       "  <th>Df Residuals:</th>          <td>   406</td>      <th>  BIC:               </th> <td>   1860.</td>\n",
       "</tr>\n",
       "<tr>\n",
       "  <th>Df Model:</th>              <td>     6</td>      <th>                     </th>     <td> </td>   \n",
       "</tr>\n",
       "<tr>\n",
       "  <th>Covariance Type:</th>      <td>nonrobust</td>    <th>                     </th>     <td> </td>   \n",
       "</tr>\n",
       "</table>\n",
       "<table class=\"simpletable\">\n",
       "<tr>\n",
       "         <td></td>           <th>coef</th>     <th>std err</th>      <th>t</th>      <th>P>|t|</th>  <th>[0.025</th>    <th>0.975]</th>  \n",
       "</tr>\n",
       "<tr>\n",
       "  <th>intercept</th>      <td>    7.3044</td> <td>    0.894</td> <td>    8.172</td> <td> 0.000</td> <td>    5.547</td> <td>    9.062</td>\n",
       "</tr>\n",
       "<tr>\n",
       "  <th>nat</th>            <td>   -0.0138</td> <td>    0.062</td> <td>   -0.222</td> <td> 0.824</td> <td>   -0.136</td> <td>    0.109</td>\n",
       "</tr>\n",
       "<tr>\n",
       "  <th>dept</th>           <td>    0.0112</td> <td>    0.049</td> <td>    0.229</td> <td> 0.819</td> <td>   -0.085</td> <td>    0.107</td>\n",
       "</tr>\n",
       "<tr>\n",
       "  <th>job</th>            <td>    0.0203</td> <td>    0.056</td> <td>    0.365</td> <td> 0.715</td> <td>   -0.089</td> <td>    0.129</td>\n",
       "</tr>\n",
       "<tr>\n",
       "  <th>martial_status</th> <td>   -0.7607</td> <td>    0.265</td> <td>   -2.870</td> <td> 0.004</td> <td>   -1.282</td> <td>   -0.240</td>\n",
       "</tr>\n",
       "<tr>\n",
       "  <th>qualification</th>  <td>   -0.3289</td> <td>    0.171</td> <td>   -1.927</td> <td> 0.055</td> <td>   -0.664</td> <td>    0.007</td>\n",
       "</tr>\n",
       "<tr>\n",
       "  <th>join_age</th>       <td>   -0.1116</td> <td>    0.024</td> <td>   -4.662</td> <td> 0.000</td> <td>   -0.159</td> <td>   -0.065</td>\n",
       "</tr>\n",
       "</table>\n",
       "<table class=\"simpletable\">\n",
       "<tr>\n",
       "  <th>Omnibus:</th>       <td>49.124</td> <th>  Durbin-Watson:     </th> <td>   1.736</td>\n",
       "</tr>\n",
       "<tr>\n",
       "  <th>Prob(Omnibus):</th> <td> 0.000</td> <th>  Jarque-Bera (JB):  </th> <td>  63.618</td>\n",
       "</tr>\n",
       "<tr>\n",
       "  <th>Skew:</th>          <td> 0.945</td> <th>  Prob(JB):          </th> <td>1.53e-14</td>\n",
       "</tr>\n",
       "<tr>\n",
       "  <th>Kurtosis:</th>      <td> 3.353</td> <th>  Cond. No.          </th> <td>    245.</td>\n",
       "</tr>\n",
       "</table><br/><br/>Warnings:<br/>[1] Standard Errors assume that the covariance matrix of the errors is correctly specified."
      ],
      "text/plain": [
       "<class 'statsmodels.iolib.summary.Summary'>\n",
       "\"\"\"\n",
       "                            OLS Regression Results                            \n",
       "==============================================================================\n",
       "Dep. Variable:                service   R-squared:                       0.060\n",
       "Model:                            OLS   Adj. R-squared:                  0.047\n",
       "Method:                 Least Squares   F-statistic:                     4.356\n",
       "Date:                Sat, 29 Feb 2020   Prob (F-statistic):           0.000281\n",
       "Time:                        08:39:52   Log-Likelihood:                -908.69\n",
       "No. Observations:                 413   AIC:                             1831.\n",
       "Df Residuals:                     406   BIC:                             1860.\n",
       "Df Model:                           6                                         \n",
       "Covariance Type:            nonrobust                                         \n",
       "==================================================================================\n",
       "                     coef    std err          t      P>|t|      [0.025      0.975]\n",
       "----------------------------------------------------------------------------------\n",
       "intercept          7.3044      0.894      8.172      0.000       5.547       9.062\n",
       "nat               -0.0138      0.062     -0.222      0.824      -0.136       0.109\n",
       "dept               0.0112      0.049      0.229      0.819      -0.085       0.107\n",
       "job                0.0203      0.056      0.365      0.715      -0.089       0.129\n",
       "martial_status    -0.7607      0.265     -2.870      0.004      -1.282      -0.240\n",
       "qualification     -0.3289      0.171     -1.927      0.055      -0.664       0.007\n",
       "join_age          -0.1116      0.024     -4.662      0.000      -0.159      -0.065\n",
       "==============================================================================\n",
       "Omnibus:                       49.124   Durbin-Watson:                   1.736\n",
       "Prob(Omnibus):                  0.000   Jarque-Bera (JB):               63.618\n",
       "Skew:                           0.945   Prob(JB):                     1.53e-14\n",
       "Kurtosis:                       3.353   Cond. No.                         245.\n",
       "==============================================================================\n",
       "\n",
       "Warnings:\n",
       "[1] Standard Errors assume that the covariance matrix of the errors is correctly specified.\n",
       "\"\"\""
      ]
     },
     "execution_count": 52,
     "metadata": {},
     "output_type": "execute_result"
    }
   ],
   "source": [
    "lm2.summary()"
   ]
  },
  {
   "cell_type": "markdown",
   "metadata": {},
   "source": [
    "**In this model our R squared got lower than the previous model, so we will use the previous model to create our linear model with sklearn.**"
   ]
  },
  {
   "cell_type": "code",
   "execution_count": 53,
   "metadata": {},
   "outputs": [
    {
     "data": {
      "text/html": [
       "<div>\n",
       "<style scoped>\n",
       "    .dataframe tbody tr th:only-of-type {\n",
       "        vertical-align: middle;\n",
       "    }\n",
       "\n",
       "    .dataframe tbody tr th {\n",
       "        vertical-align: top;\n",
       "    }\n",
       "\n",
       "    .dataframe thead th {\n",
       "        text-align: right;\n",
       "    }\n",
       "</style>\n",
       "<table border=\"1\" class=\"dataframe\">\n",
       "  <thead>\n",
       "    <tr style=\"text-align: right;\">\n",
       "      <th></th>\n",
       "      <th>nat_Bangladeshi</th>\n",
       "      <th>nat_Egyptian</th>\n",
       "      <th>nat_Filipino</th>\n",
       "      <th>nat_Indian</th>\n",
       "      <th>nat_Jordanian</th>\n",
       "      <th>nat_Kenyan</th>\n",
       "      <th>nat_Moroccan</th>\n",
       "      <th>nat_Nepalese</th>\n",
       "      <th>nat_Pakistani</th>\n",
       "      <th>nat_Sri Lankan</th>\n",
       "      <th>...</th>\n",
       "      <th>job_Technician</th>\n",
       "      <th>job_Technician - Air Cons</th>\n",
       "      <th>job_Van Salesman</th>\n",
       "      <th>martial_status_Divorced</th>\n",
       "      <th>martial_status_Married</th>\n",
       "      <th>martial_status_Single</th>\n",
       "      <th>martial_status_Widow</th>\n",
       "      <th>service</th>\n",
       "      <th>qualification</th>\n",
       "      <th>join_age_scaled</th>\n",
       "    </tr>\n",
       "  </thead>\n",
       "  <tbody>\n",
       "    <tr>\n",
       "      <th>0</th>\n",
       "      <td>0</td>\n",
       "      <td>0</td>\n",
       "      <td>0</td>\n",
       "      <td>0</td>\n",
       "      <td>0</td>\n",
       "      <td>0</td>\n",
       "      <td>0</td>\n",
       "      <td>1</td>\n",
       "      <td>0</td>\n",
       "      <td>0</td>\n",
       "      <td>...</td>\n",
       "      <td>0</td>\n",
       "      <td>0</td>\n",
       "      <td>0</td>\n",
       "      <td>0</td>\n",
       "      <td>0</td>\n",
       "      <td>1</td>\n",
       "      <td>0</td>\n",
       "      <td>3.854795</td>\n",
       "      <td>2.0</td>\n",
       "      <td>-0.951945</td>\n",
       "    </tr>\n",
       "    <tr>\n",
       "      <th>1</th>\n",
       "      <td>0</td>\n",
       "      <td>0</td>\n",
       "      <td>1</td>\n",
       "      <td>0</td>\n",
       "      <td>0</td>\n",
       "      <td>0</td>\n",
       "      <td>0</td>\n",
       "      <td>0</td>\n",
       "      <td>0</td>\n",
       "      <td>0</td>\n",
       "      <td>...</td>\n",
       "      <td>0</td>\n",
       "      <td>0</td>\n",
       "      <td>0</td>\n",
       "      <td>0</td>\n",
       "      <td>1</td>\n",
       "      <td>0</td>\n",
       "      <td>0</td>\n",
       "      <td>9.810959</td>\n",
       "      <td>2.0</td>\n",
       "      <td>-0.684400</td>\n",
       "    </tr>\n",
       "    <tr>\n",
       "      <th>2</th>\n",
       "      <td>0</td>\n",
       "      <td>0</td>\n",
       "      <td>0</td>\n",
       "      <td>0</td>\n",
       "      <td>0</td>\n",
       "      <td>0</td>\n",
       "      <td>0</td>\n",
       "      <td>1</td>\n",
       "      <td>0</td>\n",
       "      <td>0</td>\n",
       "      <td>...</td>\n",
       "      <td>0</td>\n",
       "      <td>0</td>\n",
       "      <td>0</td>\n",
       "      <td>0</td>\n",
       "      <td>0</td>\n",
       "      <td>1</td>\n",
       "      <td>0</td>\n",
       "      <td>2.010959</td>\n",
       "      <td>2.0</td>\n",
       "      <td>-0.579151</td>\n",
       "    </tr>\n",
       "    <tr>\n",
       "      <th>3</th>\n",
       "      <td>0</td>\n",
       "      <td>0</td>\n",
       "      <td>0</td>\n",
       "      <td>0</td>\n",
       "      <td>0</td>\n",
       "      <td>0</td>\n",
       "      <td>0</td>\n",
       "      <td>1</td>\n",
       "      <td>0</td>\n",
       "      <td>0</td>\n",
       "      <td>...</td>\n",
       "      <td>0</td>\n",
       "      <td>0</td>\n",
       "      <td>0</td>\n",
       "      <td>0</td>\n",
       "      <td>0</td>\n",
       "      <td>1</td>\n",
       "      <td>0</td>\n",
       "      <td>5.257534</td>\n",
       "      <td>2.0</td>\n",
       "      <td>-1.433525</td>\n",
       "    </tr>\n",
       "    <tr>\n",
       "      <th>4</th>\n",
       "      <td>0</td>\n",
       "      <td>0</td>\n",
       "      <td>0</td>\n",
       "      <td>0</td>\n",
       "      <td>0</td>\n",
       "      <td>0</td>\n",
       "      <td>0</td>\n",
       "      <td>1</td>\n",
       "      <td>0</td>\n",
       "      <td>0</td>\n",
       "      <td>...</td>\n",
       "      <td>0</td>\n",
       "      <td>0</td>\n",
       "      <td>0</td>\n",
       "      <td>0</td>\n",
       "      <td>0</td>\n",
       "      <td>1</td>\n",
       "      <td>0</td>\n",
       "      <td>4.517808</td>\n",
       "      <td>2.0</td>\n",
       "      <td>-0.416413</td>\n",
       "    </tr>\n",
       "  </tbody>\n",
       "</table>\n",
       "<p>5 rows × 37 columns</p>\n",
       "</div>"
      ],
      "text/plain": [
       "   nat_Bangladeshi  nat_Egyptian  nat_Filipino  nat_Indian  nat_Jordanian  \\\n",
       "0                0             0             0           0              0   \n",
       "1                0             0             1           0              0   \n",
       "2                0             0             0           0              0   \n",
       "3                0             0             0           0              0   \n",
       "4                0             0             0           0              0   \n",
       "\n",
       "   nat_Kenyan  nat_Moroccan  nat_Nepalese  nat_Pakistani  nat_Sri Lankan  ...  \\\n",
       "0           0             0             1              0               0  ...   \n",
       "1           0             0             0              0               0  ...   \n",
       "2           0             0             1              0               0  ...   \n",
       "3           0             0             1              0               0  ...   \n",
       "4           0             0             1              0               0  ...   \n",
       "\n",
       "   job_Technician  job_Technician - Air Cons  job_Van Salesman  \\\n",
       "0               0                          0                 0   \n",
       "1               0                          0                 0   \n",
       "2               0                          0                 0   \n",
       "3               0                          0                 0   \n",
       "4               0                          0                 0   \n",
       "\n",
       "   martial_status_Divorced  martial_status_Married  martial_status_Single  \\\n",
       "0                        0                       0                      1   \n",
       "1                        0                       1                      0   \n",
       "2                        0                       0                      1   \n",
       "3                        0                       0                      1   \n",
       "4                        0                       0                      1   \n",
       "\n",
       "   martial_status_Widow   service  qualification  join_age_scaled  \n",
       "0                     0  3.854795            2.0        -0.951945  \n",
       "1                     0  9.810959            2.0        -0.684400  \n",
       "2                     0  2.010959            2.0        -0.579151  \n",
       "3                     0  5.257534            2.0        -1.433525  \n",
       "4                     0  4.517808            2.0        -0.416413  \n",
       "\n",
       "[5 rows x 37 columns]"
      ]
     },
     "execution_count": 53,
     "metadata": {},
     "output_type": "execute_result"
    }
   ],
   "source": [
    "# excluding the service more than 10 years\n",
    "df_linear_sk = df_linear[df_linear[\"service\"]<=10]\n",
    "df_linear_sk.head()"
   ]
  },
  {
   "cell_type": "code",
   "execution_count": 54,
   "metadata": {},
   "outputs": [],
   "source": [
    "# defining model X, Y\n",
    "X_linear = df_linear_sk[df_linear_sk.columns[df_linear_sk.columns!=\"service\"]]\n",
    "y_linear = df_linear_sk[\"service\"]"
   ]
  },
  {
   "cell_type": "code",
   "execution_count": 55,
   "metadata": {},
   "outputs": [],
   "source": [
    "# splitting the dataset\n",
    "X_train_l, X_test_l, y_train_l, y_test_l = train_test_split(X_linear,y_linear,test_size=0.2,random_state=44)"
   ]
  },
  {
   "cell_type": "code",
   "execution_count": 56,
   "metadata": {},
   "outputs": [
    {
     "data": {
      "text/plain": [
       "LinearRegression(copy_X=True, fit_intercept=True, n_jobs=None, normalize=False)"
      ]
     },
     "execution_count": 56,
     "metadata": {},
     "output_type": "execute_result"
    }
   ],
   "source": [
    "# fitting the model using sklearn lib\n",
    "lm3 = sklearn.linear_model.LinearRegression()\n",
    "lm3.fit(X_train_l, y_train_l)"
   ]
  },
  {
   "cell_type": "code",
   "execution_count": 57,
   "metadata": {},
   "outputs": [],
   "source": [
    "# predicting the values\n",
    "yh_lm3 = lm3.predict(X_test_l)"
   ]
  },
  {
   "cell_type": "code",
   "execution_count": 58,
   "metadata": {},
   "outputs": [
    {
     "data": {
      "text/plain": [
       "0.20982437761355455"
      ]
     },
     "execution_count": 58,
     "metadata": {},
     "output_type": "execute_result"
    }
   ],
   "source": [
    "# checking the r2 score\n",
    "sklearn.metrics.r2_score(y_test_l, yh_lm3)"
   ]
  },
  {
   "cell_type": "code",
   "execution_count": 59,
   "metadata": {},
   "outputs": [
    {
     "data": {
      "text/plain": [
       "1.7856600778734717"
      ]
     },
     "execution_count": 59,
     "metadata": {},
     "output_type": "execute_result"
    }
   ],
   "source": [
    "# checking squared mean error\n",
    "np.sqrt(sklearn.metrics.mean_squared_error(y_test_l, yh_lm3))"
   ]
  },
  {
   "cell_type": "markdown",
   "metadata": {},
   "source": [
    "### We still have r_squared small value and we have high squared mean error, However we can use the model to make initial predictions $\\pm$ **1.79**  \n",
    "### Adding other features like salary and increasing the data may improve the model performance"
   ]
  },
  {
   "cell_type": "markdown",
   "metadata": {},
   "source": [
    "## For simplicity we will build a model based on the second dataset without manipulation as in both cases the accuracy is not high"
   ]
  },
  {
   "cell_type": "code",
   "execution_count": 60,
   "metadata": {},
   "outputs": [],
   "source": [
    "# creating a final dataframe to fit a linear model for illustration purposes\n",
    "df_final_linear_model = df_linear_3[['nat', 'dept', 'job', 'martial_status', 'join_age', 'qualification' ,'service']]"
   ]
  },
  {
   "cell_type": "code",
   "execution_count": 61,
   "metadata": {},
   "outputs": [],
   "source": [
    "# splitting dataset\n",
    "X_train_f, X_test_f, y_train_f, y_test_f = train_test_split(df_final_linear_model[df_final_linear_model.columns[df_final_linear_model.columns!='service']],df_final_linear_model[\"service\"],test_size=0.2,random_state=44)"
   ]
  },
  {
   "cell_type": "code",
   "execution_count": 62,
   "metadata": {},
   "outputs": [
    {
     "data": {
      "text/plain": [
       "LinearRegression(copy_X=True, fit_intercept=True, n_jobs=None, normalize=False)"
      ]
     },
     "execution_count": 62,
     "metadata": {},
     "output_type": "execute_result"
    }
   ],
   "source": [
    "# fitting the linear model\n",
    "lmf = sklearn.linear_model.LinearRegression()\n",
    "lmf.fit(X_train_f, y_train_f)"
   ]
  },
  {
   "cell_type": "code",
   "execution_count": 63,
   "metadata": {},
   "outputs": [
    {
     "data": {
      "text/plain": [
       "0.04167482976099912"
      ]
     },
     "execution_count": 63,
     "metadata": {},
     "output_type": "execute_result"
    }
   ],
   "source": [
    "# checking the score\n",
    "sklearn.metrics.r2_score(y_test_f, lmf.predict(X_test_f))"
   ]
  },
  {
   "cell_type": "code",
   "execution_count": 64,
   "metadata": {},
   "outputs": [
    {
     "data": {
      "text/plain": [
       "1.9664976106704435"
      ]
     },
     "execution_count": 64,
     "metadata": {},
     "output_type": "execute_result"
    }
   ],
   "source": [
    "# checking squared mean error\n",
    "np.sqrt(sklearn.metrics.mean_squared_error(y_test_f, lmf.predict(X_test_f)))"
   ]
  },
  {
   "cell_type": "code",
   "execution_count": 103,
   "metadata": {},
   "outputs": [
    {
     "data": {
      "text/plain": [
       "<matplotlib.lines.Line2D at 0x20d158dff28>"
      ]
     },
     "execution_count": 103,
     "metadata": {},
     "output_type": "execute_result"
    },
    {
     "data": {
      "image/png": "[encoded data removed]",
      "text/plain": [
       "<Figure size 432x288 with 1 Axes>"
      ]
     },
     "metadata": {
      "needs_background": "light"
     },
     "output_type": "display_data"
    }
   ],
   "source": [
    "plt.plot(X_test_f['join_age'], y_test_f,linestyle='none', marker='.')\n",
    "plt.plot(X_test_f['join_age'],lmf.predict(X_test_f), linestyle='none', marker='.', color='red')\n",
    "plt.axhline(3.5, color='g')"
   ]
  },
  {
   "cell_type": "code",
   "execution_count": 119,
   "metadata": {},
   "outputs": [],
   "source": [
    "# saving the model into a pickle format to use for the Application\n",
    "pickle.dump(lmf, open(\"linear model.sav\", 'wb'))"
   ]
  },
  {
   "cell_type": "markdown",
   "metadata": {},
   "source": [
    "## <u>Conclusion:</u>\n",
    "### We have created a simple model to evaluate the approximate service period of an employee before joining. However, there are some other factors to consider as folows:\n",
    "- **The data that we have is not enough to generate a model with a high accuracy and we may require more data like salary at joining and any information that may help us like if the employee resigned or dismissed.**  \n",
    "- **Therefore, having explored the possbilites that mey result of using this data accurately will help the company to select employees that they meet the business needs.**  \n",
    "- **Another factor that may help which is the skills that employee have at joining. Considering a factor like this may help determining the service period perceisly and to consider the employees based on their potential as well.**  \n",
    "- **Another use case for the data if they have the column, resigned or dismissed, it may show patterns in specific jobs.**"
   ]
  }
 ],
 "metadata": {
  "kernelspec": {
   "display_name": "Python 3",
   "language": "python",
   "name": "python3"
  },
  "language_info": {
   "codemirror_mode": {
    "name": "ipython",
    "version": 3
   },
   "file_extension": ".py",
   "mimetype": "text/x-python",
   "name": "python",
   "nbconvert_exporter": "python",
   "pygments_lexer": "ipython3",
   "version": "3.6.8"
  }
 },
 "nbformat": 4,
 "nbformat_minor": 4
}
